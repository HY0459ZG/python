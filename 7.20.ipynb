{
 "cells": [
  {
   "cell_type": "markdown",
   "metadata": {},
   "source": [
    "# 函数\n",
    "\n",
    "- 函数可以用来定义可重复代码，组织和简化\n",
    "- 一般来说一个函数在实际开发中为一个小功能\n",
    "- 一个类为一个大功能\n",
    "- 同样函数的长度不要超过一屏"
   ]
  },
  {
   "cell_type": "markdown",
   "metadata": {},
   "source": [
    "## 定义一个函数\n",
    "\n",
    "def function_name(list of parameters):\n",
    "    \n",
    "    do something\n",
    "![](../Photo/69.png)\n",
    "- 以前使用的random 或者range 或者print.. 其实都是函数或者类"
   ]
  },
  {
   "cell_type": "markdown",
   "metadata": {},
   "source": [
    "## 调用一个函数\n",
    "- functionName()\n",
    "- \"()\" 就代表调用"
   ]
  },
  {
   "cell_type": "markdown",
   "metadata": {},
   "source": [
    "![](../Photo/70.png)"
   ]
  },
  {
   "cell_type": "markdown",
   "metadata": {},
   "source": [
    "## 带返回值和不带返回值的函数\n",
    "- return 返回的内容\n",
    "- return 返回多个值\n",
    "- 一般情况下，在多个函数协同完成一个功能的时候，那么将会有返回值"
   ]
  },
  {
   "cell_type": "markdown",
   "metadata": {},
   "source": [
    "![](../Photo/71.png)\n",
    "\n",
    "- 当然也可以自定义返回None"
   ]
  },
  {
   "cell_type": "markdown",
   "metadata": {},
   "source": [
    "## EP：\n",
    "![](../Photo/72.png)"
   ]
  },
  {
   "cell_type": "markdown",
   "metadata": {},
   "source": [
    "# KNN算法\n",
    "# 读取图片，进行对比分析\n",
    "import matplotlib.pyplot as plt \n",
    "\n",
    "res = plt.imread('D:/rabbit.jpg')\n",
    "print(res)"
   ]
  },
  {
   "cell_type": "markdown",
   "metadata": {},
   "source": [
    "## 类型和关键字参数\n",
    "- 普通参数\n",
    "- 多个参数\n",
    "- 默认值参数\n",
    "- 不定长参数"
   ]
  },
  {
   "cell_type": "markdown",
   "metadata": {},
   "source": [
    "## 普通参数"
   ]
  },
  {
   "cell_type": "code",
   "execution_count": null,
   "metadata": {},
   "outputs": [],
   "source": []
  },
  {
   "cell_type": "markdown",
   "metadata": {},
   "source": [
    "## 多个参数"
   ]
  },
  {
   "cell_type": "code",
   "execution_count": null,
   "metadata": {},
   "outputs": [],
   "source": []
  },
  {
   "cell_type": "markdown",
   "metadata": {},
   "source": [
    "## 默认值参数\n",
    "- 默认参数只能放在最后  *之后的必须强制命名传入参数,* 之后的变量必须带参数名"
   ]
  },
  {
   "cell_type": "markdown",
   "metadata": {},
   "source": [
    "# 强制命名\n",
    "- *之后的必须强制命名传入参数,* 之后的变量必须带参数名"
   ]
  },
  {
   "cell_type": "code",
   "execution_count": 1,
   "metadata": {},
   "outputs": [
    {
     "name": "stdout",
     "output_type": "stream",
     "text": [
      "hy\n"
     ]
    }
   ],
   "source": [
    "def haha(name):\n",
    "    print(name)\n",
    "haha(name='hy')"
   ]
  },
  {
   "cell_type": "code",
   "execution_count": 2,
   "metadata": {},
   "outputs": [
    {
     "name": "stdout",
     "output_type": "stream",
     "text": [
      "hy\n"
     ]
    }
   ],
   "source": [
    "def haha(*,name):\n",
    "    print(name)\n",
    "haha(name='hy')"
   ]
  },
  {
   "cell_type": "code",
   "execution_count": 4,
   "metadata": {},
   "outputs": [
    {
     "name": "stdout",
     "output_type": "stream",
     "text": [
      "hy\n"
     ]
    }
   ],
   "source": [
    "def haha(name,name2,name4='H'):\n",
    "    print(name)\n",
    "haha(name='hy',name2='haha')"
   ]
  },
  {
   "cell_type": "code",
   "execution_count": 8,
   "metadata": {},
   "outputs": [
    {
     "data": {
      "text/plain": [
       "6"
      ]
     },
     "execution_count": 8,
     "metadata": {},
     "output_type": "execute_result"
    }
   ],
   "source": [
    "max(1,2,3,4,5,6)"
   ]
  },
  {
   "cell_type": "markdown",
   "metadata": {},
   "source": [
    "## 不定长参数\n",
    "- \\*args, 不定长，输入多少参数都可以，不写入参数也可以\n",
    "> - 可以输入多个参数\n",
    "  - 返回输出结果的类型是元组类型，元组可以迭代，输入多少个参数都可以迭代来取出\n",
    "  - args 名字是可以修改的，只是通常约定为args\n",
    "- \\**kwargs, 不定长第二种\n",
    "> - 可以输入多个参数，但需要带参数名称\n",
    "  - 返回的数据类型是字典\n",
    "  - 输入的一定要是表达式(键值对)\n",
    "- 一般大的项目传入参数时，使用config文件一次写入所有的参数"
   ]
  },
  {
   "cell_type": "code",
   "execution_count": 5,
   "metadata": {},
   "outputs": [
    {
     "name": "stdout",
     "output_type": "stream",
     "text": [
      "(1, 2, 3)\n"
     ]
    }
   ],
   "source": [
    "def TT(*args):\n",
    "    print(args)\n",
    "TT(1,2,3)"
   ]
  },
  {
   "cell_type": "code",
   "execution_count": 6,
   "metadata": {},
   "outputs": [
    {
     "name": "stdout",
     "output_type": "stream",
     "text": [
      "()\n"
     ]
    }
   ],
   "source": [
    "TT()"
   ]
  },
  {
   "cell_type": "code",
   "execution_count": 7,
   "metadata": {},
   "outputs": [
    {
     "name": "stdout",
     "output_type": "stream",
     "text": [
      "(1, 2, 3, 4, 5, 6)\n"
     ]
    }
   ],
   "source": [
    "TT(1,2,3,4,5,6)"
   ]
  },
  {
   "cell_type": "code",
   "execution_count": 16,
   "metadata": {},
   "outputs": [],
   "source": [
    "def max_(*args):\n",
    "    res=0\n",
    "    for i in args:\n",
    "        if i > res:\n",
    "            res=i\n",
    "    return res"
   ]
  },
  {
   "cell_type": "code",
   "execution_count": 17,
   "metadata": {},
   "outputs": [
    {
     "data": {
      "text/plain": [
       "100"
      ]
     },
     "execution_count": 17,
     "metadata": {},
     "output_type": "execute_result"
    }
   ],
   "source": [
    "max_(-1,100,0,1,2,3,4,5)"
   ]
  },
  {
   "cell_type": "code",
   "execution_count": 25,
   "metadata": {},
   "outputs": [],
   "source": [
    "def sum_(*args):\n",
    "    res = 0\n",
    "    count =1\n",
    "    for i in args:\n",
    "        res +=i\n",
    "        count +=1\n",
    "        mean = res / count\n",
    "    return res,mean"
   ]
  },
  {
   "cell_type": "code",
   "execution_count": 26,
   "metadata": {},
   "outputs": [
    {
     "data": {
      "text/plain": [
       "(18, 3.6)"
      ]
     },
     "execution_count": 26,
     "metadata": {},
     "output_type": "execute_result"
    }
   ],
   "source": [
    "sum_(0,4,5,9)"
   ]
  },
  {
   "cell_type": "code",
   "execution_count": 27,
   "metadata": {},
   "outputs": [],
   "source": [
    "def sum_(A='sum',*args):\n",
    "    print(A)\n",
    "    res = 0\n",
    "    count =1\n",
    "    for i in args:\n",
    "        res +=i\n",
    "        count +=1\n",
    "        mean = res / count\n",
    "    return res,mean"
   ]
  },
  {
   "cell_type": "code",
   "execution_count": 29,
   "metadata": {},
   "outputs": [
    {
     "name": "stdout",
     "output_type": "stream",
     "text": [
      "0\n"
     ]
    }
   ],
   "source": [
    "a,b=sum_(0,4,5,9)"
   ]
  },
  {
   "cell_type": "code",
   "execution_count": 39,
   "metadata": {},
   "outputs": [],
   "source": [
    "def sum_(*args,A='sum'):\n",
    "    \n",
    "    res = 0\n",
    "    count =1\n",
    "    for i in args:\n",
    "        res +=i\n",
    "        count +=1\n",
    "    if A ==\"sum\":\n",
    "        return res\n",
    "    elif A ==\"mean\":\n",
    "        mean = res / count\n",
    "        return res,mean\n",
    "    else:\n",
    "        print(A,'还未开放')"
   ]
  },
  {
   "cell_type": "code",
   "execution_count": 40,
   "metadata": {},
   "outputs": [
    {
     "name": "stdout",
     "output_type": "stream",
     "text": [
      "var 还未开放\n"
     ]
    }
   ],
   "source": [
    "sum_(0,4,5,9,A='var')"
   ]
  },
  {
   "cell_type": "code",
   "execution_count": null,
   "metadata": {},
   "outputs": [],
   "source": [
    "'aHbk134'"
   ]
  },
  {
   "cell_type": "code",
   "execution_count": 41,
   "metadata": {},
   "outputs": [
    {
     "name": "stdout",
     "output_type": "stream",
     "text": [
      "a\n",
      "H\n",
      "b\n",
      "k\n",
      "1\n",
      "3\n",
      "4\n"
     ]
    }
   ],
   "source": [
    "str_='aHbk134'\n",
    "for i in str_ :\n",
    "    print(i)"
   ]
  },
  {
   "cell_type": "code",
   "execution_count": 56,
   "metadata": {},
   "outputs": [
    {
     "ename": "IndentationError",
     "evalue": "expected an indented block (<ipython-input-56-d5f1f05abdb7>, line 6)",
     "output_type": "error",
     "traceback": [
      "\u001b[1;36m  File \u001b[1;32m\"<ipython-input-56-d5f1f05abdb7>\"\u001b[1;36m, line \u001b[1;32m6\u001b[0m\n\u001b[1;33m    xiaoxie +=1\u001b[0m\n\u001b[1;37m          ^\u001b[0m\n\u001b[1;31mIndentationError\u001b[0m\u001b[1;31m:\u001b[0m expected an indented block\n"
     ]
    }
   ],
   "source": [
    "def U(str_):\n",
    "    xiaoxie = 0\n",
    "    for i in str_:\n",
    "        ASCII = ord(i)\n",
    "        if 97<=ASCII<=122:\n",
    "        xiaoxie +=1\n",
    "    elif xxxx:\n",
    "        daxie += 1\n",
    "    elif xxxx:\n",
    "        shuzi i+= 1\n",
    "    return xiaoxie,daxie,shuzi\n",
    "    print(i)"
   ]
  },
  {
   "cell_type": "code",
   "execution_count": null,
   "metadata": {},
   "outputs": [],
   "source": [
    "2,5\n",
    "2+22+222+2222+22222"
   ]
  },
  {
   "cell_type": "code",
   "execution_count": 42,
   "metadata": {},
   "outputs": [
    {
     "name": "stdout",
     "output_type": "stream",
     "text": [
      "{'a': 100, 'b': 1000}\n"
     ]
    }
   ],
   "source": [
    "def TT(**kwargs):\n",
    "    print(kwargs)\n",
    "TT(a=100,b=1000)"
   ]
  },
  {
   "cell_type": "code",
   "execution_count": 43,
   "metadata": {},
   "outputs": [
    {
     "name": "stdout",
     "output_type": "stream",
     "text": [
      "{'a': 100, 'b': 1000}\n",
      "(1, 2, 3, 4, 5, 6)\n"
     ]
    }
   ],
   "source": [
    "def TT(*args,**kwargs):\n",
    "    print(kwargs)\n",
    "    print(args)\n",
    "TT(1,2,3,4,5,6,a=100,b=1000)"
   ]
  },
  {
   "cell_type": "code",
   "execution_count": null,
   "metadata": {},
   "outputs": [],
   "source": []
  },
  {
   "cell_type": "markdown",
   "metadata": {},
   "source": [
    "### \\**kwargs, 不定长第二种\n",
    "- 第二种不定长参数传入方法，使用字典数据传入\n",
    "- 写入参数时，必须先写\\*args, 再写\\**kwargs。 这是固定写法"
   ]
  },
  {
   "cell_type": "markdown",
   "metadata": {},
   "source": [
    "## 变量的作用域\n",
    "- 局部变量 local\n",
    "- 全局变量 global\n",
    "- globals 函数返回一个全局变量的字典，包括所有导入的变量\n",
    "- locals() 函数会以字典类型返回当前位置的全部局部变量。"
   ]
  },
  {
   "cell_type": "code",
   "execution_count": 47,
   "metadata": {},
   "outputs": [
    {
     "data": {
      "text/plain": [
       "{'__name__': '__main__',\n",
       " '__doc__': 'Automatically created module for IPython interactive environment',\n",
       " '__package__': None,\n",
       " '__loader__': None,\n",
       " '__spec__': None,\n",
       " '__builtin__': <module 'builtins' (built-in)>,\n",
       " '__builtins__': <module 'builtins' (built-in)>,\n",
       " '_ih': ['',\n",
       "  \"def haha(name):\\n    print(name)\\nhaha(name='hy')\",\n",
       "  \"def haha(*,name):\\n    print(name)\\nhaha(name='hy')\",\n",
       "  \"def haha(name,name2,name4='H'):\\n    print(name)\\nhaha(name='hy'name2='haha')\",\n",
       "  \"def haha(name,name2,name4='H'):\\n    print(name)\\nhaha(name='hy',name2='haha')\",\n",
       "  'def TT(*args):\\n    print(args)\\nTT(1,2,3)',\n",
       "  'TT()',\n",
       "  'TT(1,2,3,4,5,6)',\n",
       "  'max(1,2,3,4,5,6)',\n",
       "  'def max_(*num)\\n    print(max_)\\nnum(1,2,3)',\n",
       "  'def max_(*num)\\n    print(max_)\\nmax(1,2,3)',\n",
       "  'def max_(*num)\\n    print(max_)\\nmax(1,2,3)',\n",
       "  'def max_(*num):\\n    print(max_)\\nmax(1,2,3)',\n",
       "  'def max(*num):\\n    print(max)\\nmax(1,2,3)',\n",
       "  'def max_(*num):\\n    print(max_)\\nmax(1,2,3)',\n",
       "  'def max_(*num):\\n    print(max_)\\nmax(1,2,3)',\n",
       "  'def max_(*args):\\n    res=0\\n    for i in args:\\n        if i > res:\\n            res=i\\n    return res',\n",
       "  'max_(-1,100,0,1,2,3,4,5)',\n",
       "  'def sum_(*args):\\n    res=0\\n    count =1\\n    for i in args:\\n        res +=i\\n        count +=1\\n        mean = res/count\\n    return res,mean',\n",
       "  'def sum_(*args):\\n    res=0\\n    count =1\\n    for i in args:\\n        res +=i\\n        count +=1\\n        mean = res/count\\n    return res,mean',\n",
       "  'def sum_(*args):\\n    res=0\\n    count =1\\n    for i in args:\\n        res +=i\\n        count +=1\\n        mean = res / count\\n    return res,mean',\n",
       "  'def sum_(*args):\\n    res=0\\n    count =1\\n    for i in args:\\n        res +=i\\n        count +=1\\n        mean = res / count\\n    return res,mean',\n",
       "  'def sum_(*args):\\n    res = 0\\n    count =1\\n    for i in args:\\n        res +=i\\n        count +=1\\n        mean = res / count\\n    return res,mean',\n",
       "  'def sum_(*args):\\n    res = 0\\n    count =1\\n    for i in args:\\n        res +=i\\n        count +=1\\n        mean = res / count\\n    return res,mean',\n",
       "  'def sum_(*args):\\n    res = 0\\n    count =1\\n    for i in args:\\n        res +=i\\n        count +=1\\n        mean = res / count\\n    return res,mean',\n",
       "  'def sum_(*args):\\n    res = 0\\n    count =1\\n    for i in args:\\n        res +=i\\n        count +=1\\n        mean = res / count\\n    return res,mean',\n",
       "  'sum_(0,4,5,9)',\n",
       "  \"def sum_(A='sum',*args):\\n    print(A)\\n    res = 0\\n    count =1\\n    for i in args:\\n        res +=i\\n        count +=1\\n        mean = res / count\\n    return res,mean\",\n",
       "  'sum_(0,4,5,9)',\n",
       "  'a,b=sum_(0,4,5,9)',\n",
       "  \"def sum_(*args,A='sum'):\\n    print(A)\\n    res = 0\\n    count =1\\n    for i in args:\\n        res +=i\\n        count +=1\\n        mean = res / count\\n    return res,mean\",\n",
       "  'a,b=sum_(0,4,5,9)',\n",
       "  'a,b=sum_(0,4,5,9)\\nprint(a,b)',\n",
       "  \"a,b=sum_(0,4,5,9,A='mean')\\nprint(a,b)\",\n",
       "  'def sum_(*args,A=\\'sum\\'):\\n    print(A)\\n    res = 0\\n    count =1\\n    for i in args:\\n        res +=i\\n        count +=1\\n    if A ==\"sum\":\\n        return res\\n    elif A ==\"mean\":\\n        mean = res / count\\n        return res,mean\\n    else:\\n        print(A,\\'还未开放\\')',\n",
       "  \"a,b=sum_(0,4,5,9,A='var')\\nprint(a,b)\",\n",
       "  'def sum_(*args,A=\\'sum\\'):\\n    print(A)\\n    res = 0\\n    count =0\\n    for i in args:\\n        res +=i\\n        count +=1\\n    if A ==\"sum\":\\n        return res\\n    elif A ==\"mean\":\\n        mean = res / count\\n        return res,mean\\n    else:\\n        print(A,\\'还未开放\\')',\n",
       "  'def sum_(*args,A=\\'sum\\'):\\n    print(A)\\n    res = 0\\n    count =1\\n    for i in args:\\n        res +=i\\n        count +=1\\n    if A ==\"sum\":\\n        return res\\n    elif A ==\"mean\":\\n        mean = res / count\\n        return res,mean\\n    else:\\n        print(A,\\'还未开放\\')',\n",
       "  \"sum_(0,4,5,9,A='var')\",\n",
       "  'def sum_(*args,A=\\'sum\\'):\\n    \\n    res = 0\\n    count =1\\n    for i in args:\\n        res +=i\\n        count +=1\\n    if A ==\"sum\":\\n        return res\\n    elif A ==\"mean\":\\n        mean = res / count\\n        return res,mean\\n    else:\\n        print(A,\\'还未开放\\')',\n",
       "  \"sum_(0,4,5,9,A='var')\",\n",
       "  \"str_='aHbk134'\\nfor i in str_ :\\n    print(i)\",\n",
       "  'def TT(**kwargs):\\n    print(kwargs)\\nTT(a=100,b=1000)',\n",
       "  'def TT(*args,**kwargs):\\n    print(kwargs)\\n    print(args)\\nTT(1,2,3,4,5,6,a=100,b=1000)',\n",
       "  'a=1000\\nb=10\\ndef Y=():\\n    global a,b\\n    a += 100\\n    print(a)\\nY()',\n",
       "  'a=1000\\nb=10\\ndef Y():\\n    global a,b\\n    a += 100\\n    print(a)\\nY()',\n",
       "  'globals()',\n",
       "  'locals()'],\n",
       " '_oh': {8: 6, 12: 3, 17: 100, 26: (18, 3.6), 28: (18, 4.5), 46: {...}},\n",
       " '_dh': ['C:\\\\Users\\\\郭子慧\\\\Desktop\\\\基础\\\\章节'],\n",
       " 'In': ['',\n",
       "  \"def haha(name):\\n    print(name)\\nhaha(name='hy')\",\n",
       "  \"def haha(*,name):\\n    print(name)\\nhaha(name='hy')\",\n",
       "  \"def haha(name,name2,name4='H'):\\n    print(name)\\nhaha(name='hy'name2='haha')\",\n",
       "  \"def haha(name,name2,name4='H'):\\n    print(name)\\nhaha(name='hy',name2='haha')\",\n",
       "  'def TT(*args):\\n    print(args)\\nTT(1,2,3)',\n",
       "  'TT()',\n",
       "  'TT(1,2,3,4,5,6)',\n",
       "  'max(1,2,3,4,5,6)',\n",
       "  'def max_(*num)\\n    print(max_)\\nnum(1,2,3)',\n",
       "  'def max_(*num)\\n    print(max_)\\nmax(1,2,3)',\n",
       "  'def max_(*num)\\n    print(max_)\\nmax(1,2,3)',\n",
       "  'def max_(*num):\\n    print(max_)\\nmax(1,2,3)',\n",
       "  'def max(*num):\\n    print(max)\\nmax(1,2,3)',\n",
       "  'def max_(*num):\\n    print(max_)\\nmax(1,2,3)',\n",
       "  'def max_(*num):\\n    print(max_)\\nmax(1,2,3)',\n",
       "  'def max_(*args):\\n    res=0\\n    for i in args:\\n        if i > res:\\n            res=i\\n    return res',\n",
       "  'max_(-1,100,0,1,2,3,4,5)',\n",
       "  'def sum_(*args):\\n    res=0\\n    count =1\\n    for i in args:\\n        res +=i\\n        count +=1\\n        mean = res/count\\n    return res,mean',\n",
       "  'def sum_(*args):\\n    res=0\\n    count =1\\n    for i in args:\\n        res +=i\\n        count +=1\\n        mean = res/count\\n    return res,mean',\n",
       "  'def sum_(*args):\\n    res=0\\n    count =1\\n    for i in args:\\n        res +=i\\n        count +=1\\n        mean = res / count\\n    return res,mean',\n",
       "  'def sum_(*args):\\n    res=0\\n    count =1\\n    for i in args:\\n        res +=i\\n        count +=1\\n        mean = res / count\\n    return res,mean',\n",
       "  'def sum_(*args):\\n    res = 0\\n    count =1\\n    for i in args:\\n        res +=i\\n        count +=1\\n        mean = res / count\\n    return res,mean',\n",
       "  'def sum_(*args):\\n    res = 0\\n    count =1\\n    for i in args:\\n        res +=i\\n        count +=1\\n        mean = res / count\\n    return res,mean',\n",
       "  'def sum_(*args):\\n    res = 0\\n    count =1\\n    for i in args:\\n        res +=i\\n        count +=1\\n        mean = res / count\\n    return res,mean',\n",
       "  'def sum_(*args):\\n    res = 0\\n    count =1\\n    for i in args:\\n        res +=i\\n        count +=1\\n        mean = res / count\\n    return res,mean',\n",
       "  'sum_(0,4,5,9)',\n",
       "  \"def sum_(A='sum',*args):\\n    print(A)\\n    res = 0\\n    count =1\\n    for i in args:\\n        res +=i\\n        count +=1\\n        mean = res / count\\n    return res,mean\",\n",
       "  'sum_(0,4,5,9)',\n",
       "  'a,b=sum_(0,4,5,9)',\n",
       "  \"def sum_(*args,A='sum'):\\n    print(A)\\n    res = 0\\n    count =1\\n    for i in args:\\n        res +=i\\n        count +=1\\n        mean = res / count\\n    return res,mean\",\n",
       "  'a,b=sum_(0,4,5,9)',\n",
       "  'a,b=sum_(0,4,5,9)\\nprint(a,b)',\n",
       "  \"a,b=sum_(0,4,5,9,A='mean')\\nprint(a,b)\",\n",
       "  'def sum_(*args,A=\\'sum\\'):\\n    print(A)\\n    res = 0\\n    count =1\\n    for i in args:\\n        res +=i\\n        count +=1\\n    if A ==\"sum\":\\n        return res\\n    elif A ==\"mean\":\\n        mean = res / count\\n        return res,mean\\n    else:\\n        print(A,\\'还未开放\\')',\n",
       "  \"a,b=sum_(0,4,5,9,A='var')\\nprint(a,b)\",\n",
       "  'def sum_(*args,A=\\'sum\\'):\\n    print(A)\\n    res = 0\\n    count =0\\n    for i in args:\\n        res +=i\\n        count +=1\\n    if A ==\"sum\":\\n        return res\\n    elif A ==\"mean\":\\n        mean = res / count\\n        return res,mean\\n    else:\\n        print(A,\\'还未开放\\')',\n",
       "  'def sum_(*args,A=\\'sum\\'):\\n    print(A)\\n    res = 0\\n    count =1\\n    for i in args:\\n        res +=i\\n        count +=1\\n    if A ==\"sum\":\\n        return res\\n    elif A ==\"mean\":\\n        mean = res / count\\n        return res,mean\\n    else:\\n        print(A,\\'还未开放\\')',\n",
       "  \"sum_(0,4,5,9,A='var')\",\n",
       "  'def sum_(*args,A=\\'sum\\'):\\n    \\n    res = 0\\n    count =1\\n    for i in args:\\n        res +=i\\n        count +=1\\n    if A ==\"sum\":\\n        return res\\n    elif A ==\"mean\":\\n        mean = res / count\\n        return res,mean\\n    else:\\n        print(A,\\'还未开放\\')',\n",
       "  \"sum_(0,4,5,9,A='var')\",\n",
       "  \"str_='aHbk134'\\nfor i in str_ :\\n    print(i)\",\n",
       "  'def TT(**kwargs):\\n    print(kwargs)\\nTT(a=100,b=1000)',\n",
       "  'def TT(*args,**kwargs):\\n    print(kwargs)\\n    print(args)\\nTT(1,2,3,4,5,6,a=100,b=1000)',\n",
       "  'a=1000\\nb=10\\ndef Y=():\\n    global a,b\\n    a += 100\\n    print(a)\\nY()',\n",
       "  'a=1000\\nb=10\\ndef Y():\\n    global a,b\\n    a += 100\\n    print(a)\\nY()',\n",
       "  'globals()',\n",
       "  'locals()'],\n",
       " 'Out': {8: 6, 12: 3, 17: 100, 26: (18, 3.6), 28: (18, 4.5), 46: {...}},\n",
       " 'get_ipython': <bound method InteractiveShell.get_ipython of <ipykernel.zmqshell.ZMQInteractiveShell object at 0x00000219A77C4CC0>>,\n",
       " 'exit': <IPython.core.autocall.ZMQExitAutocall at 0x219a7838978>,\n",
       " 'quit': <IPython.core.autocall.ZMQExitAutocall at 0x219a7838978>,\n",
       " '_': {...},\n",
       " '__': (18, 4.5),\n",
       " '___': (18, 3.6),\n",
       " '_i': 'globals()',\n",
       " '_ii': 'a=1000\\nb=10\\ndef Y():\\n    global a,b\\n    a += 100\\n    print(a)\\nY()',\n",
       " '_iii': 'a=1000\\nb=10\\ndef Y=():\\n    global a,b\\n    a += 100\\n    print(a)\\nY()',\n",
       " '_i1': \"def haha(name):\\n    print(name)\\nhaha(name='hy')\",\n",
       " 'haha': <function __main__.haha(name, name2, name4='H')>,\n",
       " '_i2': \"def haha(*,name):\\n    print(name)\\nhaha(name='hy')\",\n",
       " '_i3': \"def haha(name,name2,name4='H'):\\n    print(name)\\nhaha(name='hy'name2='haha')\",\n",
       " '_i4': \"def haha(name,name2,name4='H'):\\n    print(name)\\nhaha(name='hy',name2='haha')\",\n",
       " '_i5': 'def TT(*args):\\n    print(args)\\nTT(1,2,3)',\n",
       " 'TT': <function __main__.TT(*args, **kwargs)>,\n",
       " '_i6': 'TT()',\n",
       " '_i7': 'TT(1,2,3,4,5,6)',\n",
       " '_i8': 'max(1,2,3,4,5,6)',\n",
       " '_8': 6,\n",
       " '_i9': 'def max_(*num)\\n    print(max_)\\nnum(1,2,3)',\n",
       " '_i10': 'def max_(*num)\\n    print(max_)\\nmax(1,2,3)',\n",
       " '_i11': 'def max_(*num)\\n    print(max_)\\nmax(1,2,3)',\n",
       " '_i12': 'def max_(*num):\\n    print(max_)\\nmax(1,2,3)',\n",
       " 'max_': <function __main__.max_(*args)>,\n",
       " '_12': 3,\n",
       " '_i13': 'def max(*num):\\n    print(max)\\nmax(1,2,3)',\n",
       " 'max': <function __main__.max(*num)>,\n",
       " '_i14': 'def max_(*num):\\n    print(max_)\\nmax(1,2,3)',\n",
       " '_i15': 'def max_(*num):\\n    print(max_)\\nmax(1,2,3)',\n",
       " '_i16': 'def max_(*args):\\n    res=0\\n    for i in args:\\n        if i > res:\\n            res=i\\n    return res',\n",
       " '_i17': 'max_(-1,100,0,1,2,3,4,5)',\n",
       " '_17': 100,\n",
       " '_i18': 'def sum_(*args):\\n    res=0\\n    count =1\\n    for i in args:\\n        res +=i\\n        count +=1\\n        mean = res/count\\n    return res,mean',\n",
       " 'sum_': <function __main__.sum_(*args, A='sum')>,\n",
       " '_i19': 'def sum_(*args):\\n    res=0\\n    count =1\\n    for i in args:\\n        res +=i\\n        count +=1\\n        mean = res/count\\n    return res,mean',\n",
       " '_i20': 'def sum_(*args):\\n    res=0\\n    count =1\\n    for i in args:\\n        res +=i\\n        count +=1\\n        mean = res / count\\n    return res,mean',\n",
       " '_i21': 'def sum_(*args):\\n    res=0\\n    count =1\\n    for i in args:\\n        res +=i\\n        count +=1\\n        mean = res / count\\n    return res,mean',\n",
       " '_i22': 'def sum_(*args):\\n    res = 0\\n    count =1\\n    for i in args:\\n        res +=i\\n        count +=1\\n        mean = res / count\\n    return res,mean',\n",
       " '_i23': 'def sum_(*args):\\n    res = 0\\n    count =1\\n    for i in args:\\n        res +=i\\n        count +=1\\n        mean = res / count\\n    return res,mean',\n",
       " '_i24': 'def sum_(*args):\\n    res = 0\\n    count =1\\n    for i in args:\\n        res +=i\\n        count +=1\\n        mean = res / count\\n    return res,mean',\n",
       " '_i25': 'def sum_(*args):\\n    res = 0\\n    count =1\\n    for i in args:\\n        res +=i\\n        count +=1\\n        mean = res / count\\n    return res,mean',\n",
       " '_i26': 'sum_(0,4,5,9)',\n",
       " '_26': (18, 3.6),\n",
       " '_i27': \"def sum_(A='sum',*args):\\n    print(A)\\n    res = 0\\n    count =1\\n    for i in args:\\n        res +=i\\n        count +=1\\n        mean = res / count\\n    return res,mean\",\n",
       " '_i28': 'sum_(0,4,5,9)',\n",
       " '_28': (18, 4.5),\n",
       " '_i29': 'a,b=sum_(0,4,5,9)',\n",
       " 'a': 1100,\n",
       " 'b': 10,\n",
       " '_i30': \"def sum_(*args,A='sum'):\\n    print(A)\\n    res = 0\\n    count =1\\n    for i in args:\\n        res +=i\\n        count +=1\\n        mean = res / count\\n    return res,mean\",\n",
       " '_i31': 'a,b=sum_(0,4,5,9)',\n",
       " '_i32': 'a,b=sum_(0,4,5,9)\\nprint(a,b)',\n",
       " '_i33': \"a,b=sum_(0,4,5,9,A='mean')\\nprint(a,b)\",\n",
       " '_i34': 'def sum_(*args,A=\\'sum\\'):\\n    print(A)\\n    res = 0\\n    count =1\\n    for i in args:\\n        res +=i\\n        count +=1\\n    if A ==\"sum\":\\n        return res\\n    elif A ==\"mean\":\\n        mean = res / count\\n        return res,mean\\n    else:\\n        print(A,\\'还未开放\\')',\n",
       " '_i35': \"a,b=sum_(0,4,5,9,A='var')\\nprint(a,b)\",\n",
       " '_i36': 'def sum_(*args,A=\\'sum\\'):\\n    print(A)\\n    res = 0\\n    count =0\\n    for i in args:\\n        res +=i\\n        count +=1\\n    if A ==\"sum\":\\n        return res\\n    elif A ==\"mean\":\\n        mean = res / count\\n        return res,mean\\n    else:\\n        print(A,\\'还未开放\\')',\n",
       " '_i37': 'def sum_(*args,A=\\'sum\\'):\\n    print(A)\\n    res = 0\\n    count =1\\n    for i in args:\\n        res +=i\\n        count +=1\\n    if A ==\"sum\":\\n        return res\\n    elif A ==\"mean\":\\n        mean = res / count\\n        return res,mean\\n    else:\\n        print(A,\\'还未开放\\')',\n",
       " '_i38': \"sum_(0,4,5,9,A='var')\",\n",
       " '_i39': 'def sum_(*args,A=\\'sum\\'):\\n    \\n    res = 0\\n    count =1\\n    for i in args:\\n        res +=i\\n        count +=1\\n    if A ==\"sum\":\\n        return res\\n    elif A ==\"mean\":\\n        mean = res / count\\n        return res,mean\\n    else:\\n        print(A,\\'还未开放\\')',\n",
       " '_i40': \"sum_(0,4,5,9,A='var')\",\n",
       " '_i41': \"str_='aHbk134'\\nfor i in str_ :\\n    print(i)\",\n",
       " 'str_': 'aHbk134',\n",
       " 'i': '4',\n",
       " '_i42': 'def TT(**kwargs):\\n    print(kwargs)\\nTT(a=100,b=1000)',\n",
       " '_i43': 'def TT(*args,**kwargs):\\n    print(kwargs)\\n    print(args)\\nTT(1,2,3,4,5,6,a=100,b=1000)',\n",
       " '_i44': 'a=1000\\nb=10\\ndef Y=():\\n    global a,b\\n    a += 100\\n    print(a)\\nY()',\n",
       " '_i45': 'a=1000\\nb=10\\ndef Y():\\n    global a,b\\n    a += 100\\n    print(a)\\nY()',\n",
       " 'Y': <function __main__.Y()>,\n",
       " '_i46': 'globals()',\n",
       " '_46': {...},\n",
       " '_i47': 'locals()'}"
      ]
     },
     "execution_count": 47,
     "metadata": {},
     "output_type": "execute_result"
    }
   ],
   "source": [
    "locals()"
   ]
  },
  {
   "cell_type": "code",
   "execution_count": 45,
   "metadata": {},
   "outputs": [
    {
     "name": "stdout",
     "output_type": "stream",
     "text": [
      "1100\n"
     ]
    }
   ],
   "source": [
    "a=1000\n",
    "b=10\n",
    "def Y():\n",
    "    global a,b\n",
    "    a += 100\n",
    "    print(a)\n",
    "Y()"
   ]
  },
  {
   "cell_type": "code",
   "execution_count": 48,
   "metadata": {},
   "outputs": [
    {
     "name": "stdout",
     "output_type": "stream",
     "text": [
      "1100\n",
      "1100\n"
     ]
    }
   ],
   "source": [
    "def YY(a1):\n",
    "    a1+100\n",
    "    print(a1)\n",
    "YY(a)\n",
    "print(a)"
   ]
  },
  {
   "cell_type": "markdown",
   "metadata": {},
   "source": [
    "## 注意：\n",
    "- global ：在进行赋值操作的时候需要声明\n",
    "- 官方解释：This is because when you make an assignment to a variable in a scope, that variable becomes local to that scope and shadows any similarly named variable in the outer scope.\n",
    "- ![](../Photo/73.png)"
   ]
  },
  {
   "cell_type": "markdown",
   "metadata": {},
   "source": [
    "## EP：\n",
    "- 定义一个邮箱加密函数，使得输入邮箱后进行ASCII码加密\n",
    "- 定义一个判断其是否为闰年的函数\n",
    "- 函数的嵌套：定义两个函数A，B，B函数接受A函数的数值并判定是否为奇数或者偶数"
   ]
  },
  {
   "cell_type": "markdown",
   "metadata": {},
   "source": [
    "# Homework\n",
    "- 1\n",
    "![](../Photo/74.png)"
   ]
  },
  {
   "cell_type": "code",
   "execution_count": 13,
   "metadata": {},
   "outputs": [],
   "source": [
    "def num():\n",
    "    n=0\n",
    "    for n in range(1,100):\n",
    "        wujiaoshu=n*(3*n-1)/2\n",
    "        print(wujiaoshu,end=' ')\n",
    "        n+=1\n",
    "        if n%10==0:\n",
    "            print()\n",
    "        "
   ]
  },
  {
   "cell_type": "code",
   "execution_count": 14,
   "metadata": {},
   "outputs": [
    {
     "name": "stdout",
     "output_type": "stream",
     "text": [
      "1.0 5.0 12.0 22.0 35.0 51.0 70.0 92.0 117.0 \n",
      "145.0 176.0 210.0 247.0 287.0 330.0 376.0 425.0 477.0 532.0 \n",
      "590.0 651.0 715.0 782.0 852.0 925.0 1001.0 1080.0 1162.0 1247.0 \n",
      "1335.0 1426.0 1520.0 1617.0 1717.0 1820.0 1926.0 2035.0 2147.0 2262.0 \n",
      "2380.0 2501.0 2625.0 2752.0 2882.0 3015.0 3151.0 3290.0 3432.0 3577.0 \n",
      "3725.0 3876.0 4030.0 4187.0 4347.0 4510.0 4676.0 4845.0 5017.0 5192.0 \n",
      "5370.0 5551.0 5735.0 5922.0 6112.0 6305.0 6501.0 6700.0 6902.0 7107.0 \n",
      "7315.0 7526.0 7740.0 7957.0 8177.0 8400.0 8626.0 8855.0 9087.0 9322.0 \n",
      "9560.0 9801.0 10045.0 10292.0 10542.0 10795.0 11051.0 11310.0 11572.0 11837.0 \n",
      "12105.0 12376.0 12650.0 12927.0 13207.0 13490.0 13776.0 14065.0 14357.0 14652.0 \n"
     ]
    }
   ],
   "source": [
    "num()"
   ]
  },
  {
   "cell_type": "markdown",
   "metadata": {},
   "source": [
    "- 2 \n",
    "![](../Photo/75.png)"
   ]
  },
  {
   "cell_type": "code",
   "execution_count": 75,
   "metadata": {},
   "outputs": [],
   "source": [
    "def sumDigits(n):\n",
    "    import random\n",
    "    random=random.randint\n",
    "    a=n%10\n",
    "    b=n//10\n",
    "    c=b%10\n",
    "    d=b//10\n",
    "    e=a+c+d\n",
    "    return e\n",
    "    "
   ]
  },
  {
   "cell_type": "code",
   "execution_count": 77,
   "metadata": {},
   "outputs": [
    {
     "data": {
      "text/plain": [
       "9"
      ]
     },
     "execution_count": 77,
     "metadata": {},
     "output_type": "execute_result"
    }
   ],
   "source": [
    "sumDigits(234)"
   ]
  },
  {
   "cell_type": "markdown",
   "metadata": {},
   "source": [
    "- 3\n",
    "![](../Photo/76.png)"
   ]
  },
  {
   "cell_type": "code",
   "execution_count": 2,
   "metadata": {},
   "outputs": [],
   "source": [
    "def displaysortednumbers():\n",
    "    \n",
    "    x1,x2,x3=eval(input('输入三个整数：'))\n",
    "    print('排序为：',sorted({x1,x2,x3}))\n",
    "    \n",
    "    "
   ]
  },
  {
   "cell_type": "code",
   "execution_count": 3,
   "metadata": {},
   "outputs": [
    {
     "name": "stdout",
     "output_type": "stream",
     "text": [
      "输入三个整数：3,2.4,5\n",
      "排序为： [2.4, 3, 5]\n"
     ]
    }
   ],
   "source": [
    "displaysortednumbers()"
   ]
  },
  {
   "cell_type": "code",
   "execution_count": 4,
   "metadata": {},
   "outputs": [
    {
     "name": "stdout",
     "output_type": "stream",
     "text": [
      "输入三个整数：31,12.4,15\n",
      "排序为： [12.4, 15, 31]\n"
     ]
    }
   ],
   "source": [
    "displaysortednumbers()"
   ]
  },
  {
   "cell_type": "markdown",
   "metadata": {},
   "source": [
    "# - 4\n",
    "![](../Photo/77.png)"
   ]
  },
  {
   "cell_type": "markdown",
   "metadata": {},
   "source": [
    "- 5\n",
    "![](../Photo/78.png)"
   ]
  },
  {
   "cell_type": "markdown",
   "metadata": {},
   "source": [
    "- 6\n",
    "![](../Photo/79.png)"
   ]
  },
  {
   "cell_type": "code",
   "execution_count": 11,
   "metadata": {},
   "outputs": [
    {
     "name": "stdout",
     "output_type": "stream",
     "text": [
      "365\n",
      "365\n",
      "366\n",
      "365\n",
      "365\n",
      "365\n",
      "366\n",
      "365\n",
      "365\n",
      "365\n"
     ]
    }
   ],
   "source": [
    "for i in range(2010,2020):\n",
    "    if (i%4==0 and i%100!=0) or (i%400==0):\n",
    "        print(\"366\")\n",
    "    else:\n",
    "        print('365')"
   ]
  },
  {
   "cell_type": "code",
   "execution_count": null,
   "metadata": {},
   "outputs": [],
   "source": []
  },
  {
   "cell_type": "markdown",
   "metadata": {},
   "source": [
    "- 7\n",
    "![](../Photo/80.png)"
   ]
  },
  {
   "cell_type": "code",
   "execution_count": 12,
   "metadata": {},
   "outputs": [],
   "source": [
    "import math"
   ]
  },
  {
   "cell_type": "code",
   "execution_count": 13,
   "metadata": {},
   "outputs": [],
   "source": [
    "def hy(x1,y1,x2,y2,x3,y3):\n",
    "    a=math.sqrt(math.pow(x1-x2,2)+math.pow(y1-y2,2))\n",
    "    b=math.sqrt(math.pow(x1-x3,2)+math.pow(y1-y3,2))\n",
    "    c=math.sqrt(math.pow(x2-x3,2)+math.pow(y2-y3,2))\n",
    "    side1=a/(-2*b*c)\n",
    "    A=math.acos(side1)\n",
    "    side2=b/(-2*a*c)\n",
    "    B=math.acos(side2)\n",
    "    side3=c/(-2*a*b)\n",
    "    C=math.acos(side3)\n",
    "    print(math.degrees(A))\n",
    "    print(math.degrees(B))\n",
    "    print(math.degrees(C))"
   ]
  },
  {
   "cell_type": "code",
   "execution_count": 14,
   "metadata": {},
   "outputs": [
    {
     "name": "stdout",
     "output_type": "stream",
     "text": [
      "95.07089668283993\n",
      "110.70481105463543\n",
      "95.07089668283993\n"
     ]
    }
   ],
   "source": [
    "hy(1,2,3,4,5,6)"
   ]
  },
  {
   "cell_type": "markdown",
   "metadata": {},
   "source": [
    "- 8\n",
    "![](../Photo/81.png)"
   ]
  },
  {
   "cell_type": "code",
   "execution_count": 16,
   "metadata": {},
   "outputs": [],
   "source": [
    "def hy1():\n",
    "    i=2\n",
    "    for i in range(2,32):\n",
    "        j=2\n",
    "        for j in range(2,i):\n",
    "            if i%j==0:\n",
    "                break\n",
    "        else:\n",
    "            n=2**i-1\n",
    "            print(i, n)"
   ]
  },
  {
   "cell_type": "code",
   "execution_count": 17,
   "metadata": {},
   "outputs": [
    {
     "name": "stdout",
     "output_type": "stream",
     "text": [
      "2 3\n",
      "3 7\n",
      "5 31\n",
      "7 127\n",
      "11 2047\n",
      "13 8191\n",
      "17 131071\n",
      "19 524287\n",
      "23 8388607\n",
      "29 536870911\n",
      "31 2147483647\n"
     ]
    }
   ],
   "source": [
    "hy1()"
   ]
  },
  {
   "cell_type": "markdown",
   "metadata": {},
   "source": [
    "- 9\n",
    "![](../Photo/82.png)\n",
    "![](../Photo/83.png)"
   ]
  },
  {
   "cell_type": "code",
   "execution_count": null,
   "metadata": {},
   "outputs": [],
   "source": []
  },
  {
   "cell_type": "code",
   "execution_count": null,
   "metadata": {},
   "outputs": [],
   "source": []
  },
  {
   "cell_type": "markdown",
   "metadata": {},
   "source": [
    "- 10\n",
    "![](../Photo/84.png)"
   ]
  },
  {
   "cell_type": "code",
   "execution_count": 18,
   "metadata": {},
   "outputs": [],
   "source": [
    "import random"
   ]
  },
  {
   "cell_type": "code",
   "execution_count": 19,
   "metadata": {},
   "outputs": [],
   "source": [
    "def hy2():\n",
    "     while 1:\n",
    "        i=random.randint(1,6)  \n",
    "        j=random.randint(1,6)\n",
    "        if i+j==2 or i+j==3 or i+j==12:\n",
    "            print('you rolled','%d+%d=%d'%(i,j,i+j))\n",
    "            print('you lose')\n",
    "            break\n",
    "        if i+j==7 or i+j==11:\n",
    "            print('you rolled','%d+%d=%d'%(i,j,i+j))\n",
    "            print('you win')\n",
    "            break\n",
    "        else:\n",
    "            print('you rolled','%d+%d=%d'%(i,j,i+j))\n",
    "            print('point is',i+j)"
   ]
  },
  {
   "cell_type": "code",
   "execution_count": 20,
   "metadata": {},
   "outputs": [
    {
     "name": "stdout",
     "output_type": "stream",
     "text": [
      "you rolled 4+2=6\n",
      "point is 6\n",
      "you rolled 1+5=6\n",
      "point is 6\n",
      "you rolled 1+5=6\n",
      "point is 6\n",
      "you rolled 1+6=7\n",
      "you win\n"
     ]
    }
   ],
   "source": [
    "hy2()"
   ]
  },
  {
   "cell_type": "markdown",
   "metadata": {},
   "source": [
    "- 11 \n",
    "### 去网上寻找如何用Python代码发送邮件 \n",
    "    - time.sleep(3)  3秒发送一次\n",
    "    - 一旦错误后，重新换一个邮箱"
   ]
  },
  {
   "cell_type": "code",
   "execution_count": null,
   "metadata": {},
   "outputs": [],
   "source": []
  }
 ],
 "metadata": {
  "kernelspec": {
   "display_name": "Python 3",
   "language": "python",
   "name": "python3"
  }
 },
 "nbformat": 4,
 "nbformat_minor": 2
}
