{
 "cells": [
  {
   "cell_type": "markdown",
   "metadata": {},
   "source": [
    "# 更多字符串和特殊方法\n",
    "- 前面我们已经学了类，在Python中还有一些特殊的方法起着非常重要的作用，这里会介绍一些特殊的方法和运算符的重载，以及使用特殊方法设计类"
   ]
  },
  {
   "cell_type": "code",
   "execution_count": 1,
   "metadata": {},
   "outputs": [
    {
     "name": "stdout",
     "output_type": "stream",
     "text": [
      "zzz\n"
     ]
    }
   ],
   "source": [
    "a='zzz'\n",
    "print(a)"
   ]
  },
  {
   "cell_type": "code",
   "execution_count": 2,
   "metadata": {},
   "outputs": [
    {
     "data": {
      "text/plain": [
       "'[1, 2, 3]'"
      ]
     },
     "execution_count": 2,
     "metadata": {},
     "output_type": "execute_result"
    }
   ],
   "source": [
    "b=str([1,2,3])\n",
    "b"
   ]
  },
  {
   "cell_type": "markdown",
   "metadata": {},
   "source": [
    "## str 类\n",
    "- 一个str对象是不可变的，也就是说，一旦创建了这个字符串，那么它的内容在认为不改变的情况下是不会变的\n",
    "- s1 = str()\n",
    "- s2 = str('welcome to Python')"
   ]
  },
  {
   "cell_type": "markdown",
   "metadata": {},
   "source": [
    "## 创建两个对象，分别观察两者id\n",
    "- id为Python内存地址"
   ]
  },
  {
   "cell_type": "code",
   "execution_count": 3,
   "metadata": {},
   "outputs": [
    {
     "name": "stdout",
     "output_type": "stream",
     "text": [
      "2676087363544\n",
      "2676087363544\n"
     ]
    }
   ],
   "source": [
    "print(id('a'))\n",
    "print(id('a'))"
   ]
  },
  {
   "cell_type": "code",
   "execution_count": 4,
   "metadata": {},
   "outputs": [
    {
     "name": "stdout",
     "output_type": "stream",
     "text": [
      "2676087363544\n",
      "2676087361864\n"
     ]
    }
   ],
   "source": [
    "a='a'\n",
    "b='b'\n",
    "print(id('a'))\n",
    "print(id('b'))"
   ]
  },
  {
   "cell_type": "code",
   "execution_count": 5,
   "metadata": {},
   "outputs": [
    {
     "name": "stdout",
     "output_type": "stream",
     "text": [
      "2676168589904\n",
      "2676168589936\n"
     ]
    }
   ],
   "source": [
    "a=3000\n",
    "b=3000\n",
    "print(id(a))\n",
    "print(id(b))"
   ]
  },
  {
   "cell_type": "markdown",
   "metadata": {},
   "source": [
    "## 处理字符串的函数\n",
    "- len\n",
    "- max\n",
    "- min\n",
    "- 字符串一切是按照ASCII码值进行比较"
   ]
  },
  {
   "cell_type": "code",
   "execution_count": null,
   "metadata": {},
   "outputs": [],
   "source": [
    "len#返回字符串长度"
   ]
  },
  {
   "cell_type": "code",
   "execution_count": 6,
   "metadata": {},
   "outputs": [
    {
     "data": {
      "text/plain": [
       "5"
      ]
     },
     "execution_count": 6,
     "metadata": {},
     "output_type": "execute_result"
    }
   ],
   "source": [
    "len('a,b,c')"
   ]
  },
  {
   "cell_type": "code",
   "execution_count": 7,
   "metadata": {},
   "outputs": [
    {
     "data": {
      "text/plain": [
       "3"
      ]
     },
     "execution_count": 7,
     "metadata": {},
     "output_type": "execute_result"
    }
   ],
   "source": [
    "len('abc')"
   ]
  },
  {
   "cell_type": "code",
   "execution_count": 8,
   "metadata": {},
   "outputs": [
    {
     "data": {
      "text/plain": [
       "'a'"
      ]
     },
     "execution_count": 8,
     "metadata": {},
     "output_type": "execute_result"
    }
   ],
   "source": [
    "a='abc'\n",
    "a[0]"
   ]
  },
  {
   "cell_type": "code",
   "execution_count": 9,
   "metadata": {},
   "outputs": [
    {
     "name": "stdout",
     "output_type": "stream",
     "text": [
      "a\n",
      "b\n",
      "c\n"
     ]
    }
   ],
   "source": [
    "i=0\n",
    "a='abc'\n",
    "while i<len('abc'):\n",
    "    print(a[i])\n",
    "    i +=1"
   ]
  },
  {
   "cell_type": "markdown",
   "metadata": {},
   "source": [
    "## 下角标运算符 []\n",
    "- 一个字符串是一个字符序列，可以通过索引进行访问\n",
    "- 观察字符串是否是一个可迭代序列  \\__iter__"
   ]
  },
  {
   "cell_type": "code",
   "execution_count": 10,
   "metadata": {},
   "outputs": [
    {
     "data": {
      "text/plain": [
       "'a'"
      ]
     },
     "execution_count": 10,
     "metadata": {},
     "output_type": "execute_result"
    }
   ],
   "source": [
    "a='hahaha'\n",
    "a[1]"
   ]
  },
  {
   "cell_type": "markdown",
   "metadata": {},
   "source": [
    "## 切片 [start: end]\n",
    "- start 默认值为0\n",
    "- end 默认值为-1"
   ]
  },
  {
   "cell_type": "code",
   "execution_count": 13,
   "metadata": {},
   "outputs": [
    {
     "data": {
      "text/plain": [
       "'ah'"
      ]
     },
     "execution_count": 13,
     "metadata": {},
     "output_type": "execute_result"
    }
   ],
   "source": [
    "a='hahahajichb'\n",
    "a[3:5]#前开后闭"
   ]
  },
  {
   "cell_type": "code",
   "execution_count": 14,
   "metadata": {},
   "outputs": [
    {
     "data": {
      "text/plain": [
       "'lkhnjhbjn'"
      ]
     },
     "execution_count": 14,
     "metadata": {},
     "output_type": "execute_result"
    }
   ],
   "source": [
    "a='njbhjnhkl'\n",
    "a[::-1]"
   ]
  },
  {
   "cell_type": "code",
   "execution_count": 21,
   "metadata": {},
   "outputs": [
    {
     "data": {
      "text/plain": [
       "'bdf'"
      ]
     },
     "execution_count": 21,
     "metadata": {},
     "output_type": "execute_result"
    }
   ],
   "source": [
    "b='abcdef'\n",
    "b[1::2]"
   ]
  },
  {
   "cell_type": "code",
   "execution_count": 22,
   "metadata": {},
   "outputs": [
    {
     "data": {
      "text/plain": [
       "'ace'"
      ]
     },
     "execution_count": 22,
     "metadata": {},
     "output_type": "execute_result"
    }
   ],
   "source": [
    "b='abcdef'\n",
    "b[0::2]"
   ]
  },
  {
   "cell_type": "markdown",
   "metadata": {},
   "source": [
    "## 链接运算符 + 和复制运算符 *\n",
    "- \\+ 链接多个字符串，同时''.join()也是\n",
    "- \\* 复制多个字符串"
   ]
  },
  {
   "cell_type": "code",
   "execution_count": 23,
   "metadata": {},
   "outputs": [
    {
     "data": {
      "text/plain": [
       "'sb'"
      ]
     },
     "execution_count": 23,
     "metadata": {},
     "output_type": "execute_result"
    }
   ],
   "source": [
    "'s'+'b'"
   ]
  },
  {
   "cell_type": "code",
   "execution_count": null,
   "metadata": {},
   "outputs": [],
   "source": [
    "字符串之间只能加法运算\n",
    "字符串和数之间只能乘法"
   ]
  },
  {
   "cell_type": "code",
   "execution_count": 24,
   "metadata": {},
   "outputs": [
    {
     "data": {
      "text/plain": [
       "'ssss'"
      ]
     },
     "execution_count": 24,
     "metadata": {},
     "output_type": "execute_result"
    }
   ],
   "source": [
    "'s'*4"
   ]
  },
  {
   "cell_type": "code",
   "execution_count": 25,
   "metadata": {},
   "outputs": [
    {
     "name": "stdout",
     "output_type": "stream",
     "text": [
      "*****\n",
      "*   *\n",
      "*   *\n",
      "*****\n"
     ]
    }
   ],
   "source": [
    "for i in range(0,4):\n",
    "    if i==0 or i==3:\n",
    "        print('*'*5)\n",
    "    else:\n",
    "        print('*'+' '*3+'*')\n",
    "    "
   ]
  },
  {
   "cell_type": "code",
   "execution_count": 27,
   "metadata": {},
   "outputs": [
    {
     "data": {
      "text/plain": [
       "'a!b!c'"
      ]
     },
     "execution_count": 27,
     "metadata": {},
     "output_type": "execute_result"
    }
   ],
   "source": [
    "'!'.join('abc')#等于'a'+!+'b'+!+'c'"
   ]
  },
  {
   "cell_type": "code",
   "execution_count": null,
   "metadata": {},
   "outputs": [],
   "source": [
    "url='网址'"
   ]
  },
  {
   "cell_type": "code",
   "execution_count": null,
   "metadata": {},
   "outputs": [],
   "source": [
    "import requests"
   ]
  },
  {
   "cell_type": "code",
   "execution_count": null,
   "metadata": {},
   "outputs": [],
   "source": [
    "res=requests.get(url)"
   ]
  },
  {
   "cell_type": "code",
   "execution_count": null,
   "metadata": {},
   "outputs": [],
   "source": []
  },
  {
   "cell_type": "markdown",
   "metadata": {},
   "source": [
    "## in 和 not in 运算符\n",
    "- in :判断某个字符是否在字符串内 \n",
    "- not in ：判断某个字符是否不在字符串内\n",
    "- 返回的是布尔值"
   ]
  },
  {
   "cell_type": "code",
   "execution_count": 29,
   "metadata": {},
   "outputs": [
    {
     "data": {
      "text/plain": [
       "False"
      ]
     },
     "execution_count": 29,
     "metadata": {},
     "output_type": "execute_result"
    }
   ],
   "source": [
    "a='123'\n",
    "b='4'\n",
    "b in a"
   ]
  },
  {
   "cell_type": "code",
   "execution_count": 30,
   "metadata": {},
   "outputs": [
    {
     "data": {
      "text/plain": [
       "True"
      ]
     },
     "execution_count": 30,
     "metadata": {},
     "output_type": "execute_result"
    }
   ],
   "source": [
    "a='123'\n",
    "b='3'\n",
    "b in a"
   ]
  },
  {
   "cell_type": "code",
   "execution_count": 31,
   "metadata": {},
   "outputs": [
    {
     "data": {
      "text/plain": [
       "True"
      ]
     },
     "execution_count": 31,
     "metadata": {},
     "output_type": "execute_result"
    }
   ],
   "source": [
    "a='123'\n",
    "b='4'\n",
    "b not in a"
   ]
  },
  {
   "cell_type": "code",
   "execution_count": 33,
   "metadata": {},
   "outputs": [],
   "source": [
    "def xxx(a,b):\n",
    "    for i in a:\n",
    "            if i == b:\n",
    "                return True\n",
    "            return False"
   ]
  },
  {
   "cell_type": "code",
   "execution_count": 36,
   "metadata": {},
   "outputs": [
    {
     "data": {
      "text/plain": [
       "False"
      ]
     },
     "execution_count": 36,
     "metadata": {},
     "output_type": "execute_result"
    }
   ],
   "source": [
    "xxx(a,b)"
   ]
  },
  {
   "cell_type": "code",
   "execution_count": 2,
   "metadata": {},
   "outputs": [
    {
     "ename": "FileNotFoundError",
     "evalue": "[Errno 2] No such file or directory: 'D/mail.txt'",
     "output_type": "error",
     "traceback": [
      "\u001b[1;31m---------------------------------------------------------------------------\u001b[0m",
      "\u001b[1;31mFileNotFoundError\u001b[0m                         Traceback (most recent call last)",
      "\u001b[1;32m<ipython-input-2-fa257d25c8a5>\u001b[0m in \u001b[0;36m<module>\u001b[1;34m\u001b[0m\n\u001b[0;32m      1\u001b[0m \u001b[0mpath\u001b[0m\u001b[1;33m=\u001b[0m\u001b[1;34m'D/mail.txt'\u001b[0m\u001b[1;33m\u001b[0m\u001b[1;33m\u001b[0m\u001b[0m\n\u001b[1;32m----> 2\u001b[1;33m \u001b[1;32mwith\u001b[0m \u001b[0mopen\u001b[0m\u001b[1;33m(\u001b[0m\u001b[0mpath\u001b[0m\u001b[1;33m)\u001b[0m \u001b[1;32mas\u001b[0m \u001b[0mf\u001b[0m\u001b[1;33m:\u001b[0m\u001b[1;33m\u001b[0m\u001b[1;33m\u001b[0m\u001b[0m\n\u001b[0m\u001b[0;32m      3\u001b[0m     \u001b[1;32mfor\u001b[0m \u001b[0mi\u001b[0m \u001b[1;32min\u001b[0m \u001b[0mrange\u001b[0m\u001b[1;33m(\u001b[0m\u001b[1;36m5000\u001b[0m\u001b[1;33m)\u001b[0m\u001b[1;33m:\u001b[0m\u001b[1;33m\u001b[0m\u001b[1;33m\u001b[0m\u001b[0m\n\u001b[0;32m      4\u001b[0m         \u001b[0mlines\u001b[0m\u001b[1;33m=\u001b[0m\u001b[0mf\u001b[0m\u001b[1;33m.\u001b[0m\u001b[0mreadline\u001b[0m\u001b[1;33m(\u001b[0m\u001b[1;33m)\u001b[0m\u001b[1;33m\u001b[0m\u001b[1;33m\u001b[0m\u001b[0m\n\u001b[0;32m      5\u001b[0m         \u001b[0mprint\u001b[0m\u001b[1;33m(\u001b[0m\u001b[0mlines\u001b[0m\u001b[1;33m)\u001b[0m\u001b[1;33m\u001b[0m\u001b[1;33m\u001b[0m\u001b[0m\n",
      "\u001b[1;31mFileNotFoundError\u001b[0m: [Errno 2] No such file or directory: 'D/mail.txt'"
     ]
    }
   ],
   "source": [
    "path='D/mail.txt'\n",
    "with open(path) as f:\n",
    "    for i in range(5000):\n",
    "        lines=f.readline()\n",
    "        print(lines)"
   ]
  },
  {
   "cell_type": "markdown",
   "metadata": {},
   "source": [
    "## 比较字符串\n",
    "-  ==, !=, >=, <=, >, <\n",
    "- 依照ASCII码值进行比较"
   ]
  },
  {
   "cell_type": "code",
   "execution_count": 3,
   "metadata": {},
   "outputs": [
    {
     "data": {
      "text/plain": [
       "True"
      ]
     },
     "execution_count": 3,
     "metadata": {},
     "output_type": "execute_result"
    }
   ],
   "source": [
    "'bc'>'ba'"
   ]
  },
  {
   "cell_type": "code",
   "execution_count": 4,
   "metadata": {},
   "outputs": [
    {
     "data": {
      "text/plain": [
       "True"
      ]
     },
     "execution_count": 4,
     "metadata": {},
     "output_type": "execute_result"
    }
   ],
   "source": [
    "'c'*2>'a'*2"
   ]
  },
  {
   "cell_type": "code",
   "execution_count": null,
   "metadata": {},
   "outputs": [],
   "source": []
  },
  {
   "cell_type": "markdown",
   "metadata": {},
   "source": [
    "## 测试字符串\n",
    "![](../Photo/99.png)\n",
    "- 注意：\n",
    "> - isalnum() 中是不能包含空格，否则会返回False"
   ]
  },
  {
   "cell_type": "code",
   "execution_count": 6,
   "metadata": {},
   "outputs": [
    {
     "data": {
      "text/plain": [
       "True"
      ]
     },
     "execution_count": 6,
     "metadata": {},
     "output_type": "execute_result"
    }
   ],
   "source": [
    "a='jguic'\n",
    "a.isalnum()#只能字母和数字"
   ]
  },
  {
   "cell_type": "code",
   "execution_count": 7,
   "metadata": {},
   "outputs": [
    {
     "data": {
      "text/plain": [
       "False"
      ]
     },
     "execution_count": 7,
     "metadata": {},
     "output_type": "execute_result"
    }
   ],
   "source": [
    "b='abc'\n",
    "b.isdigit()#只能是数字"
   ]
  },
  {
   "cell_type": "code",
   "execution_count": 8,
   "metadata": {},
   "outputs": [
    {
     "data": {
      "text/plain": [
       "True"
      ]
     },
     "execution_count": 8,
     "metadata": {},
     "output_type": "execute_result"
    }
   ],
   "source": [
    "b='def'#只能是标识符\n",
    "b.isidentifier()"
   ]
  },
  {
   "cell_type": "code",
   "execution_count": 11,
   "metadata": {},
   "outputs": [
    {
     "data": {
      "text/plain": [
       "True"
      ]
     },
     "execution_count": 11,
     "metadata": {},
     "output_type": "execute_result"
    }
   ],
   "source": [
    "b=' '\n",
    "b.isspace()#只能是空格"
   ]
  },
  {
   "cell_type": "code",
   "execution_count": 12,
   "metadata": {},
   "outputs": [
    {
     "data": {
      "text/plain": [
       "True"
      ]
     },
     "execution_count": 12,
     "metadata": {},
     "output_type": "execute_result"
    }
   ],
   "source": [
    "b='bajk'\n",
    "b.islower()#只能是小写字母"
   ]
  },
  {
   "cell_type": "code",
   "execution_count": null,
   "metadata": {},
   "outputs": [],
   "source": [
    "a='123zxc'\n",
    "def Check(a):\n",
    "    N1,N2,N3=0,0,0\n",
    "    for i in a:\n",
    "        if i.isupper():\n",
    "            N1 +=1\n",
    "        elif i.islower():\n",
    "            N2 +=1\n",
    "        elif i.di "
   ]
  },
  {
   "cell_type": "code",
   "execution_count": 20,
   "metadata": {},
   "outputs": [],
   "source": [
    "import requests"
   ]
  },
  {
   "cell_type": "code",
   "execution_count": 21,
   "metadata": {},
   "outputs": [
    {
     "name": "stdout",
     "output_type": "stream",
     "text": [
      "<!DOCTYPE html PUBLIC \"-//W3C//DTD XHTML 1.0 Transitional//EN\" \"http://www.w3.org/TR/xhtml1/DTD/xhtml1-transitional.dtd\">\n",
      "<html xmlns=\"http://www.w3.org/1999/xhtml\">\n",
      "<head>\n",
      "<meta http-equiv=\"Content-Type\" content=\"text/html; charset=utf-8\" />\n",
      "<title>海贼王图片-海贼王图片大全-海贼王专题-4399动漫网</title>\n",
      "<title>海贼王图片-海贼王图片大全-海贼王专题-4399动漫网</title>\n",
      "<meta name=\"keywords\" content=\"海贼王图片,海贼王壁纸,海贼王图片大全\" />\n",
      "<meta name=\"keywords\" content=\"海贼王图片,海贼王壁纸,海贼王图片大全\" />\n",
      "<meta name=\"description\" content=\"4399海贼王专题为您提供海贼王图片大全，拥有路飞、索隆、山治、娜美、罗宾、女帝等海量高清海贼王壁纸、同人图。更多人气海贼王角色图片等您一睹为快。\" />\n",
      "<meta name=\"description\" content=\"4399海贼王专题为您提供海贼王图片大全，拥有路飞、索隆、山治、娜美、罗宾、女帝等海量高清海贼王壁纸、同人图。更多人气海贼王角色图片等您一睹为快。\" />\n",
      "<meta http-equiv=\"Cache-Control\" content=\"no-transform\" />\n",
      "<link href=\"http://www.4399dmw.com/css/public/top_bar/v2/topbar.css?v=20190307\" rel=\"stylesheet\" type=\"text/css\" /><link href=\"/css/haizeiwang_global.css?v=20190307\" rel=\"stylesheet\" type=\"text/css\" />\n",
      "<link href=\"/css/haizeiwang2_140918.css?v=2\" rel=\"stylesheet\" type=\"text/css\" />\n",
      "<meta http-equiv=\"X-UA-Compatible\" content=\"IE=edge,chrome=1\"/>\n",
      "<script type=\"text/javascript\" src=\"/data/haizei.js\"></script>\n",
      "<script type=\"text/javascript\" src=\"/js/data_haizeiwang2.js\"></script>\n",
      "<base target=\"_blank\" />\n",
      "<script type=\"application/ld+json\">\n",
      "    {\n",
      "        \"@context\":\"https://ziyuan.baidu.com/contexts/cambrian.jsonld\",\n",
      "        \"@id\":\"http://www.4399dmw.com/haizeiwang/tupian/\",\n",
      "        \"upDate\":\"2019-04-12T16:20:41\"\n",
      "    }\n",
      "</script></head>\n",
      "<body>\n",
      "<div class=\"dm-topbar\">\n",
      "<div class=\"dm-topbar_in clearfix\" id=\"div_dm_topbar_id\">\n",
      "<a href=\"/\" class=\"tbr__logo fl\">\n",
      "<img src=\"/images/index/v2/logo.png\" title=\"4399动漫\" alt=\"4399动漫\" width=\"126\" height=\"27\">\n",
      "</a>\n",
      "<ul class=\"tbr__list fl home-nav\">\n",
      "<li class=\"tbr__item\"><a href=\"/\" target=\"_blank\">首页</a></li>\n",
      "<li class=\"tbr__item\"><a href=\"/donghua/\" target=\"_blank\">动画</a></li>\n",
      "<li class=\"tbr__item\"><a href=\"/manhua/\" target=\"_blank\">漫画</a></li>                \n",
      "<li class=\"tbr__item\"><a href=\"/music/\" target=\"_blank\">音乐</a></li>\n",
      "<li class=\"tbr__item\"><a href=\"/news/\" target=\"_blank\">速递</a></li>\n",
      "<li class=\"tbr__item\"><a href=\"/tuku/\" target=\"_blank\">图库</a></li>\n",
      "<li class=\"tbr__item\"><a href=\"http://my.4399.com/forums/page-dm\" target=\"_blank\">群组</a></li>\n",
      "</ul>\n",
      "<ul class=\"tbr__list-2 fr\">\n",
      "<li class=\"tbr__list-write\">\n",
      "<a style=\"cursor: pointer;\" target=\"_blank\" class=\"txt\">投稿</a>\n",
      "<ul class=\"tbr__write-list clearfix\">\n",
      "<!--<li class=\"tbr-novel\" title=\"写小说\">\n",
      "<a href=\"http://www.4399dmw.com/works-index.php\" target=\"_blank\">\n",
      "<i></i>\n",
      "<span>写小说</span>\n",
      "</a>\n",
      "</li>-->\n",
      "<li class=\"tbr-cartoon\" title=\"画漫画\">\n",
      "<a href=\"http://huodong.4399.com/comm/dmtougao/index.php?zt=77\" target=\"_blank\">\n",
      "<i></i>\n",
      "<span>画漫画</span>\n",
      "</a>\n",
      "</li>\n",
      "<li class=\"tbr-article\" title=\"写文章\">\n",
      "<a href=\"http://huodong.4399.com/comm/dmtougao/arc.php?zt=77\" target=\"_blank\">\n",
      "<i></i>\n",
      "<span>写文章</span>\n",
      "</a>\n",
      "</li>\n",
      "</ul>\n",
      "</li>\n",
      "<li><a class=\"bar-fav-btn\" href=\"#\" target=\"_blank\" title=\"请收藏示爱！\">收藏</a></li>\n",
      "</ul>\n",
      "<div id=\"user-login-bar\">\n",
      "</div>\n",
      "</div>\n",
      "</div> \n",
      "<div class=\"head_wrap\">\n",
      "<div class=\"head\"> <a href=\"javascript:void(0);\" title=\"4399海贼王动漫专区\" onclick=\"addfav(special_title,special_url);return false;\" class=\"logo\"></a> </div>\n",
      "<div class=\"head\"> <a href=\"javascript:void(0);\" title=\"4399海贼王动漫专区\" onclick=\"addfav(special_title,special_url);return false;\" class=\"logo\"></a> </div>\n",
      "<div class=\"nav\">\n",
      "<ul class=\"clearfix\">\n",
      "<li ><a target=\"_self\" href=\"/haizeiwang/\" class=\"a1\">海贼王</a></li>\n",
      "<li ><a target=\"_self\" href=\"/haizeiwang/\" class=\"a1\">海贼王</a></li>\n",
      "<li ><a target=\"_blank\" href=\"/haizeiwang/donghua/\" class=\"a2\">海贼动画</a></li>\n",
      "<li ><a target=\"_blank\" href=\"/haizeiwang/manhua/\" class=\"a3\">海贼漫画</a></li>\n",
      "<li ><a target=\"_self\" href=\"/haizeiwang/zixunzatan/\" class=\"a4\">资讯杂谈</a></li>\n",
      "<li  class=\"cur\"><a target=\"_self\" href=\"/haizeiwang/tupian/\" class=\"a5\">海贼图片</a></li>\n",
      "<li ><a target=\"_self\" href=\"/haizeiwang/juqing/\" class=\"a6\">海贼分析</a></li>\n",
      "<li ><a target=\"_self\" href=\"/haizeiwang/shipin/\" class=\"a7\">海贼视频</a></li>\n",
      "<li ><a target=\"_self\" href=\"/haizeiwang/tongren/\" class=\"a8\">海贼同人</a></li>\n",
      "<li ><a target=\"_self\" href=\"/haizeiwang/yinyue/\" class=\"a9\">海贼音乐</a></li>\n",
      "<li ><a target=\"_self\" href=\"/haizeiwang/renwu/\" class=\"a10\">悬赏令</a></li>\n",
      "<li ><a target=\"_self\" href=\"/haizeiwang/emgs/\" class=\"a11\">恶魔果实大全</a></li>\n",
      "</ul>\n",
      "</div>\n",
      "<div class=\"navb clearfix\">\n",
      "<div class=\"sehbx clearfix\">\n",
      "<form target=\"_blank\" class=\"search\" method=\"get\" action=\"/search/index.php\" onsubmit=\"if(this.search.value == false || this.search.value == '请输入你想查找的内容'){alert('请输入你想查找的内容');return false;}\">\n",
      "<input type=\"submit\" class=\"sehbtn\" value=\"\" />\n",
      "<input type=\"hidden\" id=\"ipt_type\" name=\"type\"/>\n",
      "<input type=\"text\" class=\"sehtxt\" id=\"seh_t\" value=\"请输入你想查找的内容\" onfocus=\"if(this.value=='请输入你想查找的内容') this.value='';\" onblur=\"if(this.value == false){ this.value='请输入你想查找的内容';}\"  name=\"search\" />\n",
      "</form>\n",
      "<p class=\"sehhot\">\n",
      "<span>热门搜索：</span>\n",
      "<a href=\"/dh/dlzs3/\">斗龙战士3</a>\n",
      "<a href=\"/dh/zzx10/\">猪猪侠之五灵守卫者</a>\n",
      "<a href=\"/dh/mhcs/\">魔幻车神</a>\n",
      "</p>\n",
      "</div>\n",
      "<div class=\"notice fl\" id=\"info\">\n",
      "<div class=\"tit\">最新公告</div>\n",
      "<div class=\"notice_in\">\n",
      "<ul>\n",
      "<li><a href=\"http://www.4399dmw.com/haizeiwang/manhua/274923.html\">海贼王826话 山治家族姐弟登场</a></li>\n",
      "<li><a href=\"http://www.4399dmw.com/haizeiwang/manhua/274923.html\">海贼王826话 山治家族姐弟登场</a></li>\n",
      "<li><a href=\"http://www.4399dmw.com/haizeiwang/shipin/271774.html\">海贼王燃烧之血超震撼游戏宣传片</a></li>\n",
      "<li><a href=\"http://www.4399dmw.com/haizeiwang/shipin/271774.html\">海贼王燃烧之血超震撼游戏宣传片</a></li>\n",
      "<li><a href=\"http://www.4399dmw.com/haizeiwang/tupian/270215.html\">海贼王第80卷SBS新鲜内容大放送！</a></li>\n",
      "<li><a href=\"http://www.4399dmw.com/haizeiwang/tupian/270215.html\">海贼王第80卷SBS新鲜内容大放送！</a></li>\n",
      "<li><a href=\"http://www.4399dmw.com/haizeiwang/donghua/270363.html\">海贼王730集  蔓雪莉的奇迹之泪</a></li>\n",
      "<li><a href=\"http://www.4399dmw.com/haizeiwang/donghua/270363.html\">海贼王730集  蔓雪莉的奇迹之泪</a></li>\n",
      "<li><a href=\"http://www.4399dmw.com/haizeiwang/juqing/262935.html\">50条关于海贼王的小秘密 你都知道哪一些</a></li>\n",
      "<li><a href=\"http://www.4399dmw.com/haizeiwang/juqing/262935.html\">50条关于海贼王的小秘密 你都知道哪一些</a></li>\n",
      "<li><a href=\"http://www.4399dmw.com/haizeiwang/shipin/261621.html\">尾田荣一郎现场彩页作画过程</a></li>\n",
      "<li><a href=\"http://www.4399dmw.com/haizeiwang/tupian/260698.html\">海贼王2016年动画版年历</a></li>\n",
      "<li><a href=\"http://www.4399dmw.com/haizeiwang/tupian/260698.html\">海贼王2016年动画版年历</a></li>\n",
      "<li><a href=\"http://www.4399dmw.com/haizeiwang/tupian/260371.html\">海贼王2016年官方月历欣赏</a></li>\n",
      "<li><a href=\"http://www.4399dmw.com/haizeiwang/tupian/260371.html\">海贼王2016年官方月历欣赏</a></li>\n",
      "<li><a href=\"http://weibo.com/xiaduophoto\">关注夏多老师微博  实时交流海贼王之道！</a></li>\n",
      "<li><a href=\"http://weibo.com/xiaduophoto\">关注夏多老师微博  实时交流海贼王之道！</a></li>\n",
      "<li>4399海贼王官方群 群号：183253772</li>\n",
      "<li>4399海贼王官方群 群号：183253772</li>\n",
      "<li><a href=\"http://www.4399dmw.com/haizeiwang/juqing/220490.html\">夏多分析合集 过去的篇章全部在这里</a></li>\n",
      "<li><a href=\"http://www.4399dmw.com/tuku/269004.html\">海贼王burning blood参战角色图赏</a></li>\n",
      "<li><a href=\"http://www.4399dmw.com/tuku/269004.html\">海贼王burning blood参战角色图赏</a></li>\n",
      "<li>4399海贼王官方超级群 QQ群号：76975076</li>\n",
      "<li>4399海贼王官方超级群 QQ群号：76975076</li>\n",
      "<li><a href=\"http://weibo.com/dm4399\">4399动漫网官方微博 萌萌微博娘等你来调戏</a></li>\n",
      "<li>海贼剧情讨论的乐园 夏多海贼团群号：385212372</li>\n",
      "</ul>\n",
      "</div>\n",
      "</div>\n",
      "</div>\n",
      "</div>\n",
      "<div id=\"baiduadholder\" class=\"dm_ads\"></div><div class=\"wrap mt10\">\n",
      "<div class=\"g_row clearfix\">\n",
      "<div class=\"g_col g_col_w700\">\n",
      "<div class=\"g_box\">\n",
      "<div class=\"g_hd\"> <span class=\"lt\"></span> <span class=\"rt\"></span> </div>\n",
      "<div class=\"g_bd\">\n",
      "<div class=\"dm_crumbs g_crumbs\"> 当前位置：<a href='/' target='_self'>4399动漫网</a><span class='s_g5'>&gt;</span><a href='/haizeiwang/' target='_self'>海贼王</a><span class='s_g5'>&gt;</span><a href='/haizeiwang/tupian/' target='_self'>海贼王图片</a> </div>\n",
      "<div class=\"dm_crumbs g_crumbs\"> 当前位置：<a href='/' target='_self'>4399动漫网</a><span class='s_g5'>&gt;</span><a href='/haizeiwang/' target='_self'>海贼王</a><span class='s_g5'>&gt;</span><a href='/haizeiwang/tupian/' target='_self'>海贼王图片</a> </div>\n",
      "<div class=\"g_albumlist\">\n",
      "<ul class=\"clearfix\">\n",
      "<li> <a title=\"海贼王80卷单行本SBS\" href=\"/haizeiwang/tupian/270215.html\" class=\"img\"> <img src=\"http://dmimg.5054399.com/allimg/160217/6_160217142248_2.jpg\" alt=\"海贼王80卷单行本SBS\" /> </a> <a href=\"/haizeiwang/tupian/270215.html\" class=\"tit\">海贼王80卷单行本SBS</a> </li>\n",
      "<li> <a title=\"海贼王80卷单行本SBS\" href=\"/haizeiwang/tupian/270215.html\" class=\"img\"> <img src=\"http://dmimg.5054399.com/allimg/160217/6_160217142248_2.jpg\" alt=\"海贼王80卷单行本SBS\" /> </a> <a href=\"/haizeiwang/tupian/270215.html\" class=\"tit\">海贼王80卷单行本SBS</a> </li>\n",
      "<li> <a title=\"柯拉松先生同人图\" href=\"http://www.4399dmw.com/tuku/269112.html\" class=\"img\"> <img src=\"http://dmimg.5054399.com/allimg/160127/6_160127110842_1.jpg\" alt=\"柯拉松先生同人图\" /> </a> <a href=\"http://www.4399dmw.com/tuku/269112.html\" class=\"tit\">柯拉松先生同人图</a> </li>\n",
      "<li> <a title=\"海贼王Burning Blood游戏参战角色\" href=\"http://www.4399dmw.com/tuku/269004.html\" class=\"img\"> <img src=\"http://dmimg.5054399.com/allimg/160126/6_160126100905_2.jpg\" alt=\"海贼王Burning Blood游戏参战角色\" /> </a> <a href=\"http://www.4399dmw.com/tuku/269004.html\" class=\"tit\">海贼王Burning Blood游戏参战角色</a> </li>\n",
      "<li> <a title=\"海贼王Burning Blood游戏参战角色\" href=\"http://www.4399dmw.com/tuku/269004.html\" class=\"img\"> <img src=\"http://dmimg.5054399.com/allimg/160126/6_160126100905_2.jpg\" alt=\"海贼王Burning Blood游戏参战角色\" /> </a> <a href=\"http://www.4399dmw.com/tuku/269004.html\" class=\"tit\">海贼王Burning Blood游戏参战角色</a> </li>\n",
      "<li> <a title=\"海贼王万圣节ZOMBIE主题磁章\" href=\"/haizeiwang/tupian/261738.html\" class=\"img\"> <img src=\"http://dmimg.5054399.com/allimg/151028/6_151028142939_1.jpg\" alt=\"海贼王万圣节ZOMBIE主题磁章\" /> </a> <a href=\"/haizeiwang/tupian/261738.html\" class=\"tit\">海贼王万圣节ZOMBIE主题磁章</a> </li>\n",
      "<li> <a title=\"海贼王万圣节ZOMBIE主题磁章\" href=\"/haizeiwang/tupian/261738.html\" class=\"img\"> <img src=\"http://dmimg.5054399.com/allimg/151028/6_151028142939_1.jpg\" alt=\"海贼王万圣节ZOMBIE主题磁章\" /> </a> <a href=\"/haizeiwang/tupian/261738.html\" class=\"tit\">海贼王万圣节ZOMBIE主题磁章</a> </li>\n",
      "<li> <a title=\"海贼王79卷SBS及角色生日大全\" href=\"/haizeiwang/tupian/261691.html\" class=\"img\"> <img src=\"http://dmimg.5054399.com/allimg/151027/6_151027140205_1.jpg\" alt=\"海贼王79卷SBS及角色生日大全\" /> </a> <a href=\"/haizeiwang/tupian/261691.html\" class=\"tit\">海贼王79卷SBS及角色生日大全</a> </li>\n",
      "<li> <a title=\"海贼王79卷SBS及角色生日大全\" href=\"/haizeiwang/tupian/261691.html\" class=\"img\"> <img src=\"http://dmimg.5054399.com/allimg/151027/6_151027140205_1.jpg\" alt=\"海贼王79卷SBS及角色生日大全\" /> </a> <a href=\"/haizeiwang/tupian/261691.html\" class=\"tit\">海贼王79卷SBS及角色生日大全</a> </li>\n",
      "<li> <a title=\"海贼王2016年动画版年历\" href=\"/haizeiwang/tupian/260698.html\" class=\"img\"> <img src=\"http://dmimg.5054399.com/allimg/151006/6_151006204107_1.jpg\" alt=\"海贼王2016年动画版年历\" /> </a> <a href=\"/haizeiwang/tupian/260698.html\" class=\"tit\">海贼王2016年动画版年历</a> </li>\n",
      "<li> <a title=\"海贼王2016年动画版年历\" href=\"/haizeiwang/tupian/260698.html\" class=\"img\"> <img src=\"http://dmimg.5054399.com/allimg/151006/6_151006204107_1.jpg\" alt=\"海贼王2016年动画版年历\" /> </a> <a href=\"/haizeiwang/tupian/260698.html\" class=\"tit\">海贼王2016年动画版年历</a> </li>\n",
      "<li> <a title=\"海贼王2016年官方月历\" href=\"/haizeiwang/tupian/260371.html\" class=\"img\"> <img src=\"http://dmimg.5054399.com/allimg/150927/6_150927153510_1.jpg\" alt=\"海贼王2016年官方月历\" /> </a> <a href=\"/haizeiwang/tupian/260371.html\" class=\"tit\">海贼王2016年官方月历</a> </li>\n",
      "<li> <a title=\"海贼王2016年官方月历\" href=\"/haizeiwang/tupian/260371.html\" class=\"img\"> <img src=\"http://dmimg.5054399.com/allimg/150927/6_150927153510_1.jpg\" alt=\"海贼王2016年官方月历\" /> </a> <a href=\"/haizeiwang/tupian/260371.html\" class=\"tit\">海贼王2016年官方月历</a> </li>\n",
      "<li> <a title=\"海贼王柯拉松和罗同人图\" href=\"/haizeiwang/tupian/258635.html\" class=\"img\"> <img src=\"http://dmimg.5054399.com/allimg/150821/6_150821105253_2.jpg\" alt=\"海贼王柯拉松和罗同人图\" /> </a> <a href=\"/haizeiwang/tupian/258635.html\" class=\"tit\">海贼王柯拉松和罗同人图</a> </li>\n",
      "<li> <a title=\"海贼王柯拉松和罗同人图\" href=\"/haizeiwang/tupian/258635.html\" class=\"img\"> <img src=\"http://dmimg.5054399.com/allimg/150821/6_150821105253_2.jpg\" alt=\"海贼王柯拉松和罗同人图\" /> </a> <a href=\"/haizeiwang/tupian/258635.html\" class=\"tit\">海贼王柯拉松和罗同人图</a> </li>\n",
      "<li> <a title=\"画师盖括 一支笔一个梦海贼篇合辑\" href=\"/haizeiwang/tupian/257341.html\" class=\"img\"> <img src=\"http://dmimg.5054399.com/allimg/150728/6_150728100515_1.jpg\" alt=\"画师盖括 一支笔一个梦海贼篇合辑\" /> </a> <a href=\"/haizeiwang/tupian/257341.html\" class=\"tit\">画师盖括 一支笔一个梦海贼篇合辑</a> </li>\n",
      "<li> <a title=\"海贼王78卷SBS\" href=\"/haizeiwang/tupian/257280.html\" class=\"img\"> <img src=\"http://dmimg.5054399.com/allimg/150727/6_150727114156_1.jpg\" alt=\"海贼王78卷SBS\" /> </a> <a href=\"/haizeiwang/tupian/257280.html\" class=\"tit\">海贼王78卷SBS</a> </li>\n",
      "<li> <a title=\"海贼王78卷SBS\" href=\"/haizeiwang/tupian/257280.html\" class=\"img\"> <img src=\"http://dmimg.5054399.com/allimg/150727/6_150727114156_1.jpg\" alt=\"海贼王78卷SBS\" /> </a> <a href=\"/haizeiwang/tupian/257280.html\" class=\"tit\">海贼王78卷SBS</a> </li>\n",
      "<li> <a title=\"ONE PIECE JEANIST牛仔裤组图\" href=\"/haizeiwang/tupian/257190.html\" class=\"img\"> <img src=\"http://dmimg.5054399.com/allimg/150726/6_150726014844_1.jpg\" alt=\"ONE PIECE JEANIST牛仔裤组图\" /> </a> <a href=\"/haizeiwang/tupian/257190.html\" class=\"tit\">ONE PIECE JEANIST牛仔裤组图</a> </li>\n",
      "<li> <a title=\"推进城狱卒小萨迪COSPLAY欣赏\" href=\"/haizeiwang/tupian/253253.html\" class=\"img\"> <img src=\"http://dmimg.5054399.com/allimg/150529/6_150529115733_1.jpg\" alt=\"推进城狱卒小萨迪COSPLAY欣赏\" /> </a> <a href=\"/haizeiwang/tupian/253253.html\" class=\"tit\">推进城狱卒小萨迪COSPLAY欣赏</a> </li>\n",
      "<li> <a title=\"路飞2015年5月5日生日贺图\" href=\"/haizeiwang/tupian/251825.html\" class=\"img\"> <img src=\"http://dmimg.5054399.com/allimg/150505/6_150505112033_1.jpg\" alt=\"路飞2015年5月5日生日贺图\" /> </a> <a href=\"/haizeiwang/tupian/251825.html\" class=\"tit\">路飞2015年5月5日生日贺图</a> </li>\n",
      "<li> <a title=\"海贼王77卷SBS\" href=\"/haizeiwang/tupian/250388.html\" class=\"img\"> <img src=\"http://dmimg.5054399.com/allimg/150416/6_150416172603_1.jpg\" alt=\"海贼王77卷SBS\" /> </a> <a href=\"/haizeiwang/tupian/250388.html\" class=\"tit\">海贼王77卷SBS</a> </li>\n",
      "<li> <a title=\"海贼王77卷SBS\" href=\"/haizeiwang/tupian/250388.html\" class=\"img\"> <img src=\"http://dmimg.5054399.com/allimg/150416/6_150416172603_1.jpg\" alt=\"海贼王77卷SBS\" /> </a> <a href=\"/haizeiwang/tupian/250388.html\" class=\"tit\">海贼王77卷SBS</a> </li>\n",
      "<li> <a title=\"海贼王柯拉松同人图\" href=\"/haizeiwang/tupian/250345.html\" class=\"img\"> <img src=\"http://dmimg.5054399.com/allimg/150415/6_150415170647_1.jpg\" alt=\"海贼王柯拉松同人图\" /> </a> <a href=\"/haizeiwang/tupian/250345.html\" class=\"tit\">海贼王柯拉松同人图</a> </li>\n",
      "<li> <a title=\"海贼王柯拉松同人图\" href=\"/haizeiwang/tupian/250345.html\" class=\"img\"> <img src=\"http://dmimg.5054399.com/allimg/150415/6_150415170647_1.jpg\" alt=\"海贼王柯拉松同人图\" /> </a> <a href=\"/haizeiwang/tupian/250345.html\" class=\"tit\">海贼王柯拉松同人图</a> </li>\n",
      "<li> <a title=\"轻松熊版海贼王萌头像\" href=\"/haizeiwang/tupian/250281.html\" class=\"img\"> <img src=\"http://dmimg.5054399.com/allimg/150414/6_150414115634_1.jpg\" alt=\"轻松熊版海贼王萌头像\" /> </a> <a href=\"/haizeiwang/tupian/250281.html\" class=\"tit\">轻松熊版海贼王萌头像</a> </li>\n",
      "<li> <a title=\"轻松熊版海贼王萌头像\" href=\"/haizeiwang/tupian/250281.html\" class=\"img\"> <img src=\"http://dmimg.5054399.com/allimg/150414/6_150414115634_1.jpg\" alt=\"轻松熊版海贼王萌头像\" /> </a> <a href=\"/haizeiwang/tupian/250281.html\" class=\"tit\">轻松熊版海贼王萌头像</a> </li>\n",
      "<li> <a title=\"海贼王寻宝之旅官方人物图鉴\" href=\"/haizeiwang/tupian/249779.html\" class=\"img\"> <img src=\"http://dmimg.5054399.com/allimg/150407/6_150407142509_2.jpg\" alt=\"海贼王寻宝之旅官方人物图鉴\" /> </a> <a href=\"/haizeiwang/tupian/249779.html\" class=\"tit\">海贼王寻宝之旅官方人物图鉴</a> </li>\n",
      "<li> <a title=\"海贼王寻宝之旅官方人物图鉴\" href=\"/haizeiwang/tupian/249779.html\" class=\"img\"> <img src=\"http://dmimg.5054399.com/allimg/150407/6_150407142509_2.jpg\" alt=\"海贼王寻宝之旅官方人物图鉴\" /> </a> <a href=\"/haizeiwang/tupian/249779.html\" class=\"tit\">海贼王寻宝之旅官方人物图鉴</a> </li>\n",
      "<li> <a title=\"乔巴可爱拟人COSPLAY欣赏\" href=\"/haizeiwang/tupian/249445.html\" class=\"img\"> <img src=\"http://dmimg.5054399.com/allimg/150330/6_150330170659_2.jpg\" alt=\"乔巴可爱拟人COSPLAY欣赏\" /> </a> <a href=\"/haizeiwang/tupian/249445.html\" class=\"tit\">乔巴可爱拟人COSPLAY欣赏</a> </li>\n",
      "</ul>\n",
      "</div>\n",
      "<div class=\"dm_page\">\n",
      "<div class=\"pages_n\"><a href='javascript:void(0);' class='pages_n_b' target=\"_self\">1</a>&nbsp;<a href='/haizeiwang/tupian/list-273-2.html' class='pages_n_a' target=\"_self\">2</a>&nbsp;<a href='/haizeiwang/tupian/list-273-3.html' class='pages_n_a' target=\"_self\">3</a>&nbsp;<a href='/haizeiwang/tupian/list-273-4.html' class='pages_n_a' target=\"_self\">4</a>&nbsp;<a href='/haizeiwang/tupian/list-273-5.html' class='pages_n_a' target=\"_self\">5</a>&nbsp;<a href='/haizeiwang/tupian/list-273-6.html' class='pages_n_a' target=\"_self\">6</a>&nbsp;<a href='/haizeiwang/tupian/list-273-7.html' class='pages_n_a' target=\"_self\">7</a>&nbsp;<a href='/haizeiwang/tupian/list-273-2.html' class='pages_n_a' target=\"_self\" title='下一页'>&gt;&gt;</a>&nbsp;</div>          </div>\n",
      "</div>\n",
      "<div class=\"g_fd\"> <span class=\"lb\"></span> <span class=\"rb\"></span> </div>\n",
      "</div>\n",
      "<div class=\"g_box hzwxyx_box mt10\">\n",
      "<div class=\"g_hd\"> <span class=\"lt\"></span> <span class=\"rt\"></span> </div>\n",
      "<div class=\"g_bd\"> \n",
      "<div class=\"g_box_title\">\n",
      "<a class=\"title\" href=\"http://www.4399.com/special/277.htm\"> <i class=\"icon\"></i> 动漫小游戏大全 </a>\n",
      "</div>\n",
      "<ul class=\"g_imglist g_mimglist clearfix\">\n",
      "<li> <a href=\"http://my.4399.com/yxhhw/\"> <img name=\"lzimg_1\" lz_src=\"http://dmimg.5054399.com/allimg/xiaduo/121.jpg\" alt=\"4399航海王OL\">4399航海王OL </a> </li>\n",
      "<li> <a href=\"http://www.4399.com/flash/140922.htm\"> <img name=\"lzimg_1\" lz_src=\"http://dmimg.5054399.com/allimg/xiaduo/122.jpg\" alt=\"妖尾VS海贼王0.7\">妖尾VS海贼王0.7 </a> </li>\n",
      "<li> <a href=\"http://www.4399.com/flash/140922.htm\"> <img name=\"lzimg_1\" lz_src=\"http://dmimg.5054399.com/allimg/xiaduo/122.jpg\" alt=\"妖尾VS海贼王0.7\">妖尾VS海贼王0.7 </a> </li>\n",
      "<li> <a href=\"http://www.4399.com/flash/87159.htm\"> <img name=\"lzimg_1\" lz_src=\"http://dmimg.5054399.com/allimg/xiaduo/123.jpg\" alt=\"海贼王异域冒险3\">海贼王异域冒险3 </a> </li>\n",
      "<li> <a href=\"http://www.4399.com/flash/87159.htm\"> <img name=\"lzimg_1\" lz_src=\"http://dmimg.5054399.com/allimg/xiaduo/123.jpg\" alt=\"海贼王异域冒险3\">海贼王异域冒险3 </a> </li>\n",
      "<li> <a href=\"http://www.4399.com/flash/97213_2.htm\"> <img name=\"lzimg_1\" lz_src=\"http://dmimg.5054399.com/allimg/170415/6_170415112850_1.jpg\" alt=\"海贼VS火影\">海贼VS火影 </a> </li>\n",
      "<li> <a href=\"http://www.4399.com/flash/118829.htm\"> <img name=\"lzimg_1\" lz_src=\"http://dmimg.5054399.com/allimg/xiaduo/126.jpg\" alt=\"海贼王终极对决1.6\">海贼王终极对决1.6 </a> </li>\n",
      "<li> <a href=\"http://www.4399.com/flash/118829.htm\"> <img name=\"lzimg_1\" lz_src=\"http://dmimg.5054399.com/allimg/xiaduo/126.jpg\" alt=\"海贼王终极对决1.6\">海贼王终极对决1.6 </a> </li>\n",
      "<li> <a href=\"http://www.4399.com/flash/39039.htm\"> <img name=\"lzimg_1\" lz_src=\"http://dmimg.5054399.com/allimg/xiaduo/124.jpg\" alt=\"海贼王叉鱼记\">海贼王叉鱼记 </a> </li>\n",
      "<li> <a href=\"http://www.4399.com/flash/39039.htm\"> <img name=\"lzimg_1\" lz_src=\"http://dmimg.5054399.com/allimg/xiaduo/124.jpg\" alt=\"海贼王叉鱼记\">海贼王叉鱼记 </a> </li>\n",
      "</ul>\n",
      "</div>\n",
      "<div class=\"g_fd\"> <span class=\"lb\"></span> <span class=\"rb\"></span> </div>\n",
      "<i class=\"bhock_u bhock_lt\"></i> <i class=\"bhock_u bhock_rt\"></i> </div>    </div>\n",
      "<div class=\"g_col g_col_w270 ml10\">\n",
      "<div class=\"g_flagbox g_sidebox rmzx_sdbox mt2r\">\n",
      "<div class=\"g_flaghd\"> <span class=\"lt\"></span> <span class=\"rt\"></span> </div>\n",
      "<div class=\"g_flagbd\">\n",
      "<div class=\"g_box_title\"> <a href=\"/haizeiwang/zixunzatan/\" class=\"more\">更多&gt;&gt;</a>\n",
      "<a class=\"title\" href=\"/haizeiwang/zixunzatan/\"> <i class=\"icon\"></i> 海贼王热门资讯 </a>\n",
      "<a class=\"title\" href=\"/haizeiwang/zixunzatan/\"> <i class=\"icon\"></i> 海贼王热门资讯 </a>\n",
      "</div>\n",
      "<h3 class=\"g_side_actitle\"><a href=\"/haizeiwang/zixunzatan/304508.html\">《海贼王》奇葩产物 那些奇奇</a></h3>\n",
      "<h3 class=\"g_side_actitle\"><a href=\"/haizeiwang/zixunzatan/304508.html\">《海贼王》奇葩产物 那些奇奇</a></h3>\n",
      "<div class=\"g_imgtext\"> <a href=\"/haizeiwang/zixunzatan/304508.html\" class=\"img\" title=\"《海贼王》奇葩产物 那些奇奇\"> <img alt=\"《海贼王》奇葩产物 那些奇奇\" src=\"http://dmimg.5054399.com/allimg/170613/42_170613104122_3.jpg\" /> </a>\n",
      "<div class=\"g_imgtext\"> <a href=\"/haizeiwang/zixunzatan/304508.html\" class=\"img\" title=\"《海贼王》奇葩产物 那些奇奇\"> <img alt=\"《海贼王》奇葩产物 那些奇奇\" src=\"http://dmimg.5054399.com/allimg/170613/42_170613104122_3.jpg\" /> </a>\n",
      "<p class=\"text\">海贼王里的电话虫是一种伟大航道内的通讯工具，虽然是生物，但......</p>\n",
      "<p class=\"text\">海贼王里的电话虫是一种伟大航道内的通讯工具，虽然是生物，但......</p>\n",
      "</div>\n",
      "<div class=\"newsbox\">\n",
      "<ul class=\"g_textlist\">\n",
      "<li> <span class=\"time\">[05-31]</span> <a href=\"/haizeiwang/zixunzatan/302016.html\">盘点海贼王漫画中让人匪夷所</a> </li>\n",
      "<li> <span class=\"time\">[05-31]</span> <a href=\"/haizeiwang/zixunzatan/302016.html\">盘点海贼王漫画中让人匪夷所</a> </li>\n",
      "<li> <span class=\"time\">[05-25]</span> <a href=\"/haizeiwang/zixunzatan/300598.html\">《海贼王》里最适合撩妹的岛</a> </li>\n",
      "<li> <span class=\"time\">[05-25]</span> <a href=\"/haizeiwang/zixunzatan/300598.html\">《海贼王》里最适合撩妹的岛</a> </li>\n",
      "<li> <span class=\"time\">[05-24]</span> <a href=\"/haizeiwang/zixunzatan/300368.html\">《海贼王》里十大最丑的角色</a> </li>\n",
      "<li> <span class=\"time\">[05-24]</span> <a href=\"/haizeiwang/zixunzatan/300368.html\">《海贼王》里十大最丑的角色</a> </li>\n",
      "<li> <span class=\"time\">[05-15]</span> <a href=\"/haizeiwang/zixunzatan/298482.html\">《海贼王》里最会占女生便宜</a> </li>\n",
      "<li> <span class=\"time\">[05-15]</span> <a href=\"/haizeiwang/zixunzatan/298482.html\">《海贼王》里最会占女生便宜</a> </li>\n",
      "<li> <span class=\"time\">[04-28]</span> <a href=\"/haizeiwang/zixunzatan/296224.html\">海贼王角色两年前后对比 变化</a> </li>\n",
      "<li> <span class=\"time\">[04-28]</span> <a href=\"/haizeiwang/zixunzatan/296224.html\">海贼王角色两年前后对比 变化</a> </li>\n",
      "</ul>\n",
      "</div>\n",
      "</div>\n",
      "<div class=\"g_flagfd\"> <span class=\"lb\"></span> <span class=\"rb\"></span> </div>\n",
      "<i class=\"fbhock_u fbhock_ulb\"></i> <i class=\"fbhock_u fbhock_urb\"></i> </div>\n",
      "<div class=\"g_dmbtns\"> <a href=\"/haizeiwang/manhua/\" class=\"mhbtn\"> <i></i> <b>海贼王漫画</b> </a> <a href=\"/haizeiwang/donghua/\" class=\"dhbtn\"> <i></i> <b>海贼王动画</b> </a> </div>\n",
      "<div class=\"g_dmbtns\"> <a href=\"/haizeiwang/manhua/\" class=\"mhbtn\"> <i></i> <b>海贼王漫画</b> </a> <a href=\"/haizeiwang/donghua/\" class=\"dhbtn\"> <i></i> <b>海贼王动画</b> </a> </div>\n",
      "<div class=\"g_flagbox g_sidebox hztj_sdbox\">\n",
      "<div class=\"g_flaghd\"> <span class=\"lt\"></span> <span class=\"rt\"></span> </div>\n",
      "<div class=\"g_flagbd\">\n",
      "<div class=\"g_box_title\"> <a href=\"/haizeiwang/tupian/\" class=\"more\">更多&gt;&gt;</a>\n",
      "<a href=\"/haizeiwang/tupian/\" class=\"title\"> <i class=\"icon\"></i> 海贼王图片 </a>\n",
      "<a href=\"/haizeiwang/tupian/\" class=\"title\"> <i class=\"icon\"></i> 海贼王图片 </a>\n",
      "</div>\n",
      "<ul class=\"g_imglist g_mdimglist clearfix\">\n",
      "<li> <a href=\"/haizeiwang/tupian/270215.html\"> <img src=\"http://dmimg.5054399.com/allimg/160217/6_160217142248_3.jpg\" alt=\"海贼王80卷单行本SBS\" />海贼王80卷单行本SBS</a> </li>\n",
      "<li> <a href=\"/haizeiwang/tupian/270215.html\"> <img src=\"http://dmimg.5054399.com/allimg/160217/6_160217142248_3.jpg\" alt=\"海贼王80卷单行本SBS\" />海贼王80卷单行本SBS</a> </li>\n",
      "<li> <a href=\"http://www.4399dmw.com/tuku/269112.html\"> <img src=\"http://dmimg.5054399.com/allimg/160127/6_160127110842_2.jpg\" alt=\"柯拉松先生同人图\" />柯拉松先生同人图</a> </li>\n",
      "<li> <a href=\"http://www.4399dmw.com/tuku/269004.html\"> <img src=\"http://dmimg.5054399.com/allimg/160126/6_160126100905_3.jpg\" alt=\"海贼王Burning Blood游戏参战角色\" />海贼王Burning Blood游戏参战角色</a> </li>\n",
      "<li> <a href=\"http://www.4399dmw.com/tuku/269004.html\"> <img src=\"http://dmimg.5054399.com/allimg/160126/6_160126100905_3.jpg\" alt=\"海贼王Burning Blood游戏参战角色\" />海贼王Burning Blood游戏参战角色</a> </li>\n",
      "<li> <a href=\"/haizeiwang/tupian/261738.html\"> <img src=\"http://dmimg.5054399.com/allimg/151028/6_151028142939_2.jpg\" alt=\"海贼王万圣节ZOMBIE主题磁章\" />海贼王万圣节ZOMBIE主题磁章</a> </li>\n",
      "<li> <a href=\"/haizeiwang/tupian/261738.html\"> <img src=\"http://dmimg.5054399.com/allimg/151028/6_151028142939_2.jpg\" alt=\"海贼王万圣节ZOMBIE主题磁章\" />海贼王万圣节ZOMBIE主题磁章</a> </li>\n",
      "</ul>\n",
      "<span class=\"knife\"></span> </div>\n",
      "<div class=\"g_flagfd\"> <span class=\"lb\"></span> <span class=\"rb\"></span> </div>\n",
      "<i class=\"fbhock_d fbhock_dlt\"></i> <i class=\"fbhock_d fbhock_drt \"></i> <i class=\"fbhock_u fbhock_ulb\"></i> <i class=\"fbhock_u fbhock_urb\"></i> </div>\n",
      "<div class=\"g_flagbox g_sidebox hzfx_sdbox mt15\">\n",
      "<div class=\"g_flaghd\"> <span class=\"lt\"></span> <span class=\"rt\"></span> </div>\n",
      "<div class=\"g_flagbd\">\n",
      "<div class=\"g_box_title\"> <a href=\"/haizeiwang/juqing/\" class=\"more\">更多&gt;&gt;</a>\n",
      "<a class=\"title\" href=\"/haizeiwang/juqing/\"> <i class=\"icon\"></i> 海贼王分析 </a>\n",
      "<a class=\"title\" href=\"/haizeiwang/juqing/\"> <i class=\"icon\"></i> 海贼王分析 </a>\n",
      "</div>\n",
      "<div class=\"newsbox\">\n",
      "<ul class=\"g_textlist\">\n",
      "<li> <span class=\"time\">[03-11]</span> <a href=\"/haizeiwang/juqing/271421.html\">关于文斯莫克山治的分析</a> </li>\n",
      "<li> <span class=\"time\">[03-09]</span> <a href=\"http://weibo.com/ttarticle/p/show?id=2309403951190911130828\">夏多的海贼王分析 和大家再见</a> </li>\n",
      "<li> <span class=\"time\">[03-09]</span> <a href=\"http://weibo.com/ttarticle/p/show?id=2309403951190911130828\">夏多的海贼王分析 和大家再见</a> </li>\n",
      "<li> <span class=\"time\">[03-01]</span> <a href=\"/haizeiwang/juqing/270577.html\">海贼王817分析</a> </li>\n",
      "<li> <span class=\"time\">[03-01]</span> <a href=\"/haizeiwang/juqing/270577.html\">海贼王817分析</a> </li>\n",
      "<li> <span class=\"time\">[02-17]</span> <a href=\"/haizeiwang/juqing/270230.html\">新人浅谈我对海贼王和黑胡子</a> </li>\n",
      "<li> <span class=\"time\">[02-17]</span> <a href=\"/haizeiwang/juqing/270230.html\">新人浅谈我对海贼王和黑胡子</a> </li>\n",
      "<li> <span class=\"time\">[02-17]</span> <a href=\"/haizeiwang/juqing/270219.html\">龙之华盛顿的2016海贼初分析</a> </li>\n",
      "<li> <span class=\"time\">[02-16]</span> <a href=\"/haizeiwang/juqing/269976.html\">海贼王816分析</a> </li>\n",
      "<li> <span class=\"time\">[02-16]</span> <a href=\"/haizeiwang/juqing/269976.html\">海贼王816分析</a> </li>\n",
      "<li> <span class=\"time\">[02-08]</span> <a href=\"/haizeiwang/juqing/269870.html\">浅析草帽海贼团第十人</a> </li>\n",
      "<li> <span class=\"time\">[02-06]</span> <a href=\"/haizeiwang/juqing/269679.html\">海贼王815分析</a> </li>\n",
      "<li> <span class=\"time\">[02-06]</span> <a href=\"/haizeiwang/juqing/269679.html\">海贼王815分析</a> </li>\n",
      "<li> <span class=\"time\">[01-30]</span> <a href=\"/haizeiwang/juqing/269353.html\">山治的新娘等于第十人？</a> </li>\n",
      "<li> <span class=\"time\">[01-30]</span> <a href=\"/haizeiwang/juqing/269246.html\">海贼王814分析</a> </li>\n",
      "<li> <span class=\"time\">[01-30]</span> <a href=\"/haizeiwang/juqing/269246.html\">海贼王814分析</a> </li>\n",
      "</ul>\n",
      "</div>\n",
      "</div>\n",
      "<div class=\"g_flagfd\"> <span class=\"lb\"></span> <span class=\"rb\"></span> </div>\n",
      "<i class=\"fbhock_d fbhock_dlt\"></i> <i class=\"fbhock_d fbhock_drt \"></i> <i class=\"fbhock_u fbhock_ulb\"></i> <i class=\"fbhock_u fbhock_urb\"></i> </div>\n",
      "<div class=\"g_flagbox g_sidebox rmdm_sdbox mt15\">\n",
      "<div class=\"g_flaghd\"> <span class=\"lt\"></span> <span class=\"rt\"></span> </div>\n",
      "<div class=\"g_flagbd\">\n",
      "<div class=\"recomboard\">\n",
      "<div class=\"g_tab dmtab\">\n",
      "<ul class=\"clearfix\" id=\"j-roletab2\">\n",
      "<li class=\"cur\"> <i class=\"ico1\"></i> <span>热门动画</span> </li>\n",
      "<li> <i class=\"ico2\"></i> <span>热门漫画</span> </li>\n",
      "</ul>\n",
      "</div>\n",
      "<div id=\"j-rolecon2\" class=\"rolecon\"> \n",
      "<ul class=\"ranklist\">\n",
      "<li><a href=\"http://www.4399dmw.com/dh/zzxbsxyx/\">猪猪侠之变身小英雄</a></li>\n",
      "<li><a href=\"http://www.4399dmw.com/dh/kaijiayongshinawa/\">铠甲勇士拿瓦</a></li>\n",
      "<li><a href=\"http://www.4399dmw.com/dh/atxddl/\">爱探险的朵拉</a></li>\n",
      "<li><a href=\"http://www.4399dmw.com/dh/zdzwjfzhdeb/\">战斗王之飓风战魂</a></li>\n",
      "<li><a href=\"http://www.4399dmw.com/dh/xcmzclzdy/\">熊出没之丛林总动员</a></li>\n",
      "<li><a href=\"http://www.4399dmw.com/dh/xdtxt/\">新大头儿子和小头爸爸</a></li>\n",
      "<li><a href=\"http://www.4399dmw.com/dh/xcmdbxb/\">熊出没之夺宝熊兵</a></li>\n",
      "</ul>\n",
      "<ul class=\"ranklist\" style=\"display:none\">\n",
      "<li><a href=\"http://www.4399dmw.com/mh/juhuaxiaodian/\">菊花笑典</a></li>\n",
      "<li><a href=\"http://www.4399dmw.com/mh/au/\">阿U漫画</a></li>\n",
      "<li><a href=\"http://www.4399dmw.com/mh/niuniutao/\">妞妞淘</a></li>\n",
      "<li><a href=\"http://www.4399dmw.com/heizhishi/manhua/\">黑执事漫画</a></li>\n",
      "<li><a href=\"http://www.4399dmw.com/huoying/manhua/\">火影忍者漫画</a></li>\n",
      "<li><a href=\"http://www.4399dmw.com/mh/ppxqchdqs/\">炮炮向前冲之荒岛求生</a></li>\n",
      "<li><a href=\"http://www.4399dmw.com/duolaameng/manhua/\">哆啦a梦漫画</a></li>\n",
      "</ul>\n",
      "</div>\n",
      "</div>\n",
      "</div>\n",
      "<div class=\"g_flagfd\"> <span class=\"lb\"></span> <span class=\"rb\"></span> </div>\n",
      "<i class=\"fbhock_d fbhock_dlt\"></i> <i class=\"fbhock_d fbhock_drt \"></i> </div>\n",
      "</div>  </div>\n",
      "<div class=\"g_row\">\n",
      "<div class=\"rmssboard\">\n",
      "<div class=\"rmss_hd\"></div>\n",
      "<div class=\"rmss_bd clearfix\">\n",
      "<dl class=\"rmssdl\">\n",
      "<dt>热门搜索：</dt>\n",
      "<dd class=\"clearfix\">\n",
      "<a href=\"http://www.4399dmw.com/donghua/\">动画片</a><a href=\"http://www.4399dmw.com/manhua/\">漫画网</a><a href=\"http://www.4399dmw.com/\">动漫网</a><a href=\"http://www.4399dmw.com/huoying/\">火影忍者</a><a href=\"http://www.4399dmw.com/qinshimingyue/\">秦时明月</a><a href=\"http://www.4399dmw.com/dh/kjysbj/\">铠甲勇士捕将</a><a href=\"http://www.4399dmw.com/haizeiwang/\">海贼王</a><a href=\"http://www.4399dmw.com/yaojingdeweiba/\">妖精的尾巴</a><a href=\"http://www.4399dmw.com/orz/23/\">搞笑动画推荐</a><a href=\"http://www.4399dmw.com/atm/\">奥特曼专区</a><a href=\"http://www.4399dmw.com/news/\">动漫速递</a><a href=\"http://www.4399dmw.com/dh/bbmd/\">百变马丁</a><a href=\"http://www.4399dmw.com/zixun/381175.html\">19年1月新番</a><a href=\"http://www.4399dmw.com/orz/20/\">动漫小主题汇总</a><a href=\"http://www.4399dmw.com/xcmmovie3/\">熊出没之熊心归来大电影</a><a href=\"http://www.4399dmw.com/dh/dlzs3/\">斗龙战士3龙印之战</a><a href=\"http://www.4399dmw.com/dh/seerdiliuji/\">赛尔号第六季</a><a href=\"http://www.4399dmw.com/qinshimingyue/jltx/\">秦时明月之君临天下</a><a href=\"http://www.4399dmw.com/dh/drlft/\">熊出没之冬日乐翻天</a><a href=\"http://www.4399dmw.com/dh/qjleyuan/\">奇积乐园</a><a href=\"http://www.4399dmw.com/dh/akmfsn/\">艾可魔法少女</a>          </dd>\n",
      "<a href=\"http://www.4399dmw.com/donghua/\">动画片</a><a href=\"http://www.4399dmw.com/manhua/\">漫画网</a><a href=\"http://www.4399dmw.com/\">动漫网</a><a href=\"http://www.4399dmw.com/huoying/\">火影忍者</a><a href=\"http://www.4399dmw.com/qinshimingyue/\">秦时明月</a><a href=\"http://www.4399dmw.com/dh/kjysbj/\">铠甲勇士捕将</a><a href=\"http://www.4399dmw.com/haizeiwang/\">海贼王</a><a href=\"http://www.4399dmw.com/yaojingdeweiba/\">妖精的尾巴</a><a href=\"http://www.4399dmw.com/orz/23/\">搞笑动画推荐</a><a href=\"http://www.4399dmw.com/atm/\">奥特曼专区</a><a href=\"http://www.4399dmw.com/news/\">动漫速递</a><a href=\"http://www.4399dmw.com/dh/bbmd/\">百变马丁</a><a href=\"http://www.4399dmw.com/zixun/381175.html\">19年1月新番</a><a href=\"http://www.4399dmw.com/orz/20/\">动漫小主题汇总</a><a href=\"http://www.4399dmw.com/xcmmovie3/\">熊出没之熊心归来大电影</a><a href=\"http://www.4399dmw.com/dh/dlzs3/\">斗龙战士3龙印之战</a><a href=\"http://www.4399dmw.com/dh/seerdiliuji/\">赛尔号第六季</a><a href=\"http://www.4399dmw.com/qinshimingyue/jltx/\">秦时明月之君临天下</a><a href=\"http://www.4399dmw.com/dh/drlft/\">熊出没之冬日乐翻天</a><a href=\"http://www.4399dmw.com/dh/qjleyuan/\">奇积乐园</a><a href=\"http://www.4399dmw.com/dh/akmfsn/\">艾可魔法少女</a>          </dd>\n",
      "</dl>\n",
      "</div>\n",
      "<div class=\"rmss_fd\"></div>\n",
      "</div>\n",
      "</div>\n",
      "</div>\n",
      "<script type=\"text/javascript\" src=\"/js/libs/public/v1/jquery-1.4.4.min.js\"></script>\n",
      "<script type=\"text/javascript\" src=\"/js/libs/common.js?v=20190307\"></script>\n",
      "<script type=\"text/javascript\" src=\"/js/widget/history/home.js?v=20190307\"></script>\n",
      "<script type=\"text/javascript\" src=\"/js/commshare_g.js\"></script>\n",
      "<script type=\"text/javascript\">\n",
      "    var topbar_html_url = '/data/top_bar_data.html';\n",
      "</script>\n",
      "<script type=\"text/javascript\" src=\"http://www.4399dmw.com/js/shares/common/jquery.cookie.js\"></script>\n",
      "<script type=\"text/javascript\" src=\"http://www.4399dmw.com/js/libs/public/top_bar/v2/page.js?v=20190307\"></script>\n",
      "<script type=\"text/javascript\" src=\"http://www.4399dmw.com/js/usercenter/user/v1/userlogin.js?v=20190307\"></script>\n",
      "<script type=\"text/javascript\" src=\"http://www.4399dmw.com/baiduad/baiduad_funs.js\"></script>\n",
      "<script  type=\"text/javascript\">\n",
      "\tadd_baidu_define_ad(980, 90, 'baiduadholder', 'margin-top:8px;');\n",
      "</script>\n",
      "<script type=\"text/javascript\">\n",
      "    var typename = '海贼王';\n",
      "    var typename = '海贼王';\n",
      "    var special_title = '海贼王专题-海贼王动漫中文网-4399动漫网';\n",
      "    var special_title = '海贼王专题-海贼王动漫中文网-4399动漫网';\n",
      "    var special_url ='http://www.4399dmw.com/haizeiwang/';\n",
      "</script>\n",
      "<script src=\"/js/4399.js\"></script> \n",
      "<script src=\"/js/haizeiwang2tab.js\"></script> \n",
      "<script src=\"http://www.4399dmw.com/js/libs/public/v1/ks.marquee.js\"></script> \n",
      "<script>\n",
      "//最新公告滚动\n",
      "ue.marquee({\n",
      "    hovertarget : \"#info\",//鼠标hover停止切换的对象\n",
      "    target : '#info .notice_in ul',//滚动对象 一般为 ul\n",
      "    items : '#info .notice_in li', //滚动的详细列表\n",
      "    delay : 1000,//切换间隔时间\n",
      "    speed : 900,//切换速度\n",
      "    visiblenum : 1,//可见个数\n",
      "    scrollnum : 1,//每次滚动个数\n",
      "    autoplay : true,//是否自动播放    \n",
      "    loop : 1,//循环模式 1 无限循环 0 不循环\n",
      "    mode : 0,\n",
      "    direction : 0\n",
      "  });\n",
      "\n",
      "if($(\"#j-roletab\").length != 0){\n",
      "    tab(\"j-roletab\",\"li\",\"j-rolecon\",\"ul\");\n",
      "}\n",
      "if($(\"#j-roletab2\").length != 0){\n",
      "    tab2(\"j-roletab2\",\"li\",\"j-rolecon2\",\"ul\");\n",
      "}\n",
      "//展示全部\n",
      "$(\".btnshowall\").bind(\"click\",function(){\n",
      "    $(\"#iga\").removeClass(\"modemini\");\n",
      "    $(\".btnshowall\").hide();\n",
      "    var this_img = $(\"#iga\");\n",
      "    var replace_html = this_img.html().replace(/lz_src/g, \"src\");\n",
      "    this_img.html(replace_html);\n",
      "    return false;\n",
      "}); \n",
      "</script>\n",
      "<div class=\"dm_bottombar\" id=\"footer\">\n",
      "<div class=\"dm_bottombar footer\">\n",
      "<a href=\"http://www.4399dmw.com/contact_us.html\" rel=\"external nofollow\">联系我们</a> |   <a href=\"http://www.4399dmw.com/disclaimer.html\" rel=\"external nofollow\">免责声明</a>  | <a href=\"http://web.4399.com/local/200810/22-1230.html\">隐私政策</a> | <a href=\"http://www.4399dmw.com/map.html\">网站地图</a> | <a href=\"http://www.4399dmw.com/copyright.html\" rel=\"external nofollow\">版权保护投诉声明</a> | <a href=\"http://www.4399dmw.com/uploadinfo.html\" rel=\"external nofollow\">动漫作品上传须知</a> | <a rel=\"external nofollow\" href=\"http://web.4399.com/jiazhang/\">未成年人家长监护</a><br />\n",
      "    本站漫画等相关内容均来自网友分享和上传，以供漫画爱好者研究漫画画法技巧和构图方式，若侵犯到您的权益，请立即联系我们删除。本站不负任何相关责任。<br />\n",
      "<a rel=\"external nofollow\" href=\"http://sq.ccm.gov.cn/ccnt/sczr/service/business/emark/toDetail/9F5113E34F5E4443A68F11E8A6E2685C\"><img src=\"/images/bg-whjy.png\" style=\"vertical-align: middle;\" /> 闽网文〔2018〕9590-427号</a> | <a rel=\"external nofollow\" href=\"http://www.4399.com/zs/chuban.html \">新出网证(闽)字06号</a> | <a rel=\"external nofollow\" href=\"http://www.miitbeian.gov.cn/\">ICP证闽B2-20040099-21</a> 如果有意见和建议，请点击至<a rel=\"external nofollow\" href=\"http://huodong.4399.com/dongman/faq_suggestion/\" style=\"color:#1111bb;\">反馈报错箱</a> 或 请惠赐E-mail至<a href=\"mailto:4399dmw@4399inc.com\">4399dmw@4399inc.com</a><br />\n",
      "    Copyright &copy; 2004 - 2019 4399dmw.com All Rights Reserved.四三九九网络股份有限公司 版权所有    </div>\n",
      "<!--[if IE 6]>\n",
      "<script src=\"http://www.4399dmw.com/js/libs/public/v1/DD_belatedPNG_0.0.8a-min.js\"></script><script type=\"text/javascript\">DD_belatedPNG.fix('.png_img');</script>\n",
      "<![endif]-->\n",
      "<div style=\"display:none\">\n",
      "<script type=\"text/javascript\" src=\"http://www.4399dmw.com/js/dmcount.js\"></script>\n",
      "</div>    </div>\n",
      "</body>\n",
      "</html>\n",
      "\n"
     ]
    }
   ],
   "source": [
    "url='http://www.4399dmw.com/haizeiwang/tupian/'\n",
    "HTML=requests.get(url).text\n",
    "a=HTML.split('\\n')\n",
    "for i in a:\n",
    "    print(i)\n",
    "    if i.find(\"海贼王\") !=-1:\n",
    "        print(i)"
   ]
  },
  {
   "cell_type": "code",
   "execution_count": 23,
   "metadata": {},
   "outputs": [],
   "source": [
    "import requests"
   ]
  },
  {
   "cell_type": "code",
   "execution_count": 25,
   "metadata": {},
   "outputs": [
    {
     "name": "stdout",
     "output_type": "stream",
     "text": [
      "http://dmimg.5054399.com/allimg/160217/6_160217142248_2.jpg\n",
      "http://dmimg.5054399.com/allimg/160127/6_160127110842_1.jpg\n",
      "http://dmimg.5054399.com/allimg/160126/6_160126100905_2.jpg\n",
      "http://dmimg.5054399.com/allimg/151028/6_151028142939_1.jpg\n",
      "http://dmimg.5054399.com/allimg/151027/6_151027140205_1.jpg\n",
      "http://dmimg.5054399.com/allimg/151006/6_151006204107_1.jpg\n",
      "http://dmimg.5054399.com/allimg/150927/6_150927153510_1.jpg\n",
      "http://dmimg.5054399.com/allimg/150821/6_150821105253_2.jpg\n",
      "http://dmimg.5054399.com/allimg/150728/6_150728100515_1.jpg\n",
      "http://dmimg.5054399.com/allimg/150727/6_150727114156_1.jpg\n",
      "http://dmimg.5054399.com/allimg/150726/6_150726014844_1.jpg\n",
      "http://dmimg.5054399.com/allimg/150529/6_150529115733_1.jpg\n",
      "http://dmimg.5054399.com/allimg/150505/6_150505112033_1.jpg\n",
      "http://dmimg.5054399.com/allimg/150416/6_150416172603_1.jpg\n",
      "http://dmimg.5054399.com/allimg/150415/6_150415170647_1.jpg\n",
      "http://dmimg.5054399.com/allimg/150414/6_150414115634_1.jpg\n",
      "http://dmimg.5054399.com/allimg/150407/6_150407142509_2.jpg\n",
      "http://dmimg.5054399.com/allimg/150330/6_150330170659_2.jpg\n",
      "http://dmimg.5054399.com/allimg/xiaduo/121.jpg\n",
      "http://dmimg.5054399.com/allimg/xiaduo/122.jpg\n",
      "http://dmimg.5054399.com/allimg/xiaduo/123.jpg\n",
      "http://dmimg.5054399.com/allimg/170415/6_170415112850_1.jpg\n",
      "http://dmimg.5054399.com/allimg/xiaduo/126.jpg\n",
      "http://dmimg.5054399.com/allimg/xiaduo/124.jpg\n",
      "http://dmimg.5054399.com/allimg/170613/42_170613104122_3.jpg\n",
      "http://dmimg.5054399.com/allimg/160217/6_160217142248_3.jpg\n",
      "http://dmimg.5054399.com/allimg/160127/6_160127110842_2.jpg\n",
      "http://dmimg.5054399.com/allimg/160126/6_160126100905_3.jpg\n",
      "http://dmimg.5054399.com/allimg/151028/6_151028142939_2.jpg\n"
     ]
    }
   ],
   "source": [
    "url='http://www.4399dmw.com/haizeiwang/tupian/'\n",
    "HTML=requests.get(url).text\n",
    "LIST=HTML.split('\\n')\n",
    "for line in LIST:\n",
    "    if '.jpg' in line:\n",
    "        lin2=line.split('\"')\n",
    "        for linee in lin2:\n",
    "            if '.jpg' in linee:\n",
    "                print(linee)\n",
    "         \n",
    "    "
   ]
  },
  {
   "cell_type": "code",
   "execution_count": 28,
   "metadata": {},
   "outputs": [
    {
     "name": "stdout",
     "output_type": "stream",
     "text": [
      "http://dmimg.5054399.com/allimg/150330/6_150330161421_2.jpg\n",
      "http://dmimg.5054399.com/allimg/150320/6_150320104402_1.jpg\n",
      "http://dmimg.5054399.com/allimg/150317/6_150317101316_1.jpg\n",
      "http://dmimg.5054399.com/allimg/150331/6_150331095525_1.jpg\n",
      "http://dmimg.5054399.com/allimg/150305/6_150305102040_3.jpg\n",
      "http://dmimg.5054399.com/allimg/150218/6_150218163858_2.jpg\n",
      "http://dmimg.5054399.com/allimg/150209/6_150209151809_1.jpg\n",
      "http://dmimg.5054399.com/allimg/150206/6_150206154705_1.jpg\n",
      "http://dmimg.5054399.com/allimg/150203/32_150203114445_1.jpg\n",
      "http://dmimg.5054399.com/allimg/150130/6_150130160542_1.jpg\n",
      "http://dmimg.5054399.com/allimg/150129/6_150129154845_1.jpg\n",
      "http://dmimg.5054399.com/allimg/150128/6_150128193911_1.jpg\n",
      "http://dmimg.5054399.com/allimg/150128/6_150128165954_1.jpg\n",
      "http://dmimg.5054399.com/allimg/150127/6_150127115234_1.jpg\n",
      "http://dmimg.5054399.com/allimg/140623/6_140623110852_1.jpg\n",
      "http://dmimg.5054399.com/allimg/150121/6_150121135815_1.jpg\n",
      "http://dmimg.5054399.com/allimg/150114/6_150114094256_1.jpg\n",
      "http://dmimg.5054399.com/allimg/141212/6_141212093715_1.jpg\n",
      "http://dmimg.5054399.com/allimg/xiaduo/121.jpg\n",
      "http://dmimg.5054399.com/allimg/xiaduo/122.jpg\n",
      "http://dmimg.5054399.com/allimg/xiaduo/123.jpg\n",
      "http://dmimg.5054399.com/allimg/170415/6_170415112850_1.jpg\n",
      "http://dmimg.5054399.com/allimg/xiaduo/126.jpg\n",
      "http://dmimg.5054399.com/allimg/xiaduo/124.jpg\n",
      "http://dmimg.5054399.com/allimg/170613/42_170613104122_3.jpg\n",
      "http://dmimg.5054399.com/allimg/160217/6_160217142248_3.jpg\n",
      "http://dmimg.5054399.com/allimg/160127/6_160127110842_2.jpg\n",
      "http://dmimg.5054399.com/allimg/160126/6_160126100905_3.jpg\n",
      "http://dmimg.5054399.com/allimg/151028/6_151028142939_2.jpg\n"
     ]
    }
   ],
   "source": [
    "url='http://www.4399dmw.com/haizeiwang/tupian/list-273-2.html'\n",
    "for i in range(0,7):\n",
    "HTML=requests.get(url).text\n",
    "LIST=HTML.split('\\n')\n",
    "for line in LIST:\n",
    "    if '.jpg' in line:\n",
    "        lin2=line.split('\"')\n",
    "        for linee in lin2:\n",
    "            if '.jpg' in linee:\n",
    "                print(linee)"
   ]
  },
  {
   "cell_type": "markdown",
   "metadata": {},
   "source": [
    "## 搜索子串\n",
    "![](../Photo/100.png)"
   ]
  },
  {
   "cell_type": "markdown",
   "metadata": {},
   "source": [
    "## 转换字符串\n",
    "![](../Photo/101.png)"
   ]
  },
  {
   "cell_type": "code",
   "execution_count": 6,
   "metadata": {},
   "outputs": [
    {
     "data": {
      "text/plain": [
       "'Guozihui'"
      ]
     },
     "execution_count": 6,
     "metadata": {},
     "output_type": "execute_result"
    }
   ],
   "source": [
    "a='guozihui'\n",
    "a.capitalize()"
   ]
  },
  {
   "cell_type": "code",
   "execution_count": 7,
   "metadata": {},
   "outputs": [
    {
     "data": {
      "text/plain": [
       "'GuoZiHui'"
      ]
     },
     "execution_count": 7,
     "metadata": {},
     "output_type": "execute_result"
    }
   ],
   "source": [
    "a='gUOzIhUI'\n",
    "a.swapcase()"
   ]
  },
  {
   "cell_type": "code",
   "execution_count": 8,
   "metadata": {},
   "outputs": [
    {
     "data": {
      "text/plain": [
       "'Guozihui'"
      ]
     },
     "execution_count": 8,
     "metadata": {},
     "output_type": "execute_result"
    }
   ],
   "source": [
    "a='guozihui'\n",
    "a.replace('g','G',1)"
   ]
  },
  {
   "cell_type": "code",
   "execution_count": null,
   "metadata": {},
   "outputs": [],
   "source": []
  },
  {
   "cell_type": "markdown",
   "metadata": {},
   "source": [
    "## 删除字符串\n",
    "![](../Photo/146.png)"
   ]
  },
  {
   "cell_type": "code",
   "execution_count": 5,
   "metadata": {},
   "outputs": [
    {
     "data": {
      "text/plain": [
       "'abjkj   '"
      ]
     },
     "execution_count": 5,
     "metadata": {},
     "output_type": "execute_result"
    }
   ],
   "source": [
    "b='   abjkj   '\n",
    "b.lstrip()"
   ]
  },
  {
   "cell_type": "code",
   "execution_count": null,
   "metadata": {},
   "outputs": [],
   "source": []
  },
  {
   "cell_type": "markdown",
   "metadata": {},
   "source": [
    "## 格式化字符串\n",
    "![](../Photo/103.png)"
   ]
  },
  {
   "cell_type": "markdown",
   "metadata": {},
   "source": [
    "## EP:\n",
    "- 1\n",
    "![](../Photo/104.png)\n",
    "- 2 \n",
    "    随机参数100个数字，将www.baidu.com/?page=进行拼接"
   ]
  },
  {
   "cell_type": "code",
   "execution_count": null,
   "metadata": {},
   "outputs": [],
   "source": []
  },
  {
   "cell_type": "markdown",
   "metadata": {},
   "source": [
    "## Python高级使用方法 -- 字符串\n",
    "- 我们经常使用的方法实际上就是调用Python的运算重载\n",
    "![](../Photo/105.png)"
   ]
  },
  {
   "cell_type": "markdown",
   "metadata": {},
   "source": [
    "# Homework\n",
    "- 1\n",
    "![](../Photo/106.png)"
   ]
  },
  {
   "cell_type": "code",
   "execution_count": 3,
   "metadata": {},
   "outputs": [
    {
     "name": "stdout",
     "output_type": "stream",
     "text": [
      "格式：ddd_dd_dddd,d是数字：123--12--123\n",
      "invalid ssn\n"
     ]
    }
   ],
   "source": [
    "def check():\n",
    "    a = input(\"格式：ddd_dd_dddd,d是数字：\")\n",
    "    if a ==123_12_123:\n",
    "        print(\"valid ssn\")\n",
    "    else:\n",
    "        print(\"invalid ssn\")\n",
    "check()"
   ]
  },
  {
   "cell_type": "code",
   "execution_count": null,
   "metadata": {},
   "outputs": [],
   "source": []
  },
  {
   "cell_type": "markdown",
   "metadata": {},
   "source": [
    "- 2\n",
    "![](../Photo/107.png)"
   ]
  },
  {
   "cell_type": "code",
   "execution_count": 4,
   "metadata": {},
   "outputs": [
    {
     "name": "stdout",
     "output_type": "stream",
     "text": [
      ">>hyngkj\n",
      ">>hympohgbvh\n",
      "flase\n"
     ]
    }
   ],
   "source": [
    "def find():\n",
    "    a = input(\">>\")\n",
    "    b = input(\">>\")\n",
    "    if a in b:\n",
    "        print('子串')\n",
    "    else:\n",
    "        print('flase')\n",
    "find()"
   ]
  },
  {
   "cell_type": "code",
   "execution_count": null,
   "metadata": {},
   "outputs": [],
   "source": []
  },
  {
   "cell_type": "markdown",
   "metadata": {},
   "source": [
    "- 3\n",
    "![](../Photo/108.png)"
   ]
  },
  {
   "cell_type": "code",
   "execution_count": 5,
   "metadata": {},
   "outputs": [],
   "source": [
    "def Cheak(a):\n",
    "    N = len (a)\n",
    "    n1,n2,n3 = 0,0,0\n",
    "    for i in a:\n",
    "        if i.isupper():\n",
    "            n1 +=1\n",
    "        elif i.islower():\n",
    "            n2 +=1\n",
    "        elif i.isdigit():\n",
    "            n3 +=1\n",
    "    if n1 ==0 :\n",
    "        print('invalid password')\n",
    "    if n2 ==0:\n",
    "        print ('invalid password')\n",
    "    if n3 == 0:\n",
    "        print('invalid password')\n",
    "    if N<=8:\n",
    "        print('invalid password')\n",
    "    if i.count('0,9')!= 2:\n",
    "        print('invalid password')\n",
    "    else:\n",
    "        print('valid password')"
   ]
  },
  {
   "cell_type": "code",
   "execution_count": 6,
   "metadata": {},
   "outputs": [
    {
     "name": "stdout",
     "output_type": "stream",
     "text": [
      "invalid password\n",
      "invalid password\n"
     ]
    }
   ],
   "source": [
    "a = '4rbuilkjabiuk'\n",
    "Cheak(a)"
   ]
  },
  {
   "cell_type": "markdown",
   "metadata": {},
   "source": [
    "- 4\n",
    "![](../Photo/109.png)"
   ]
  },
  {
   "cell_type": "code",
   "execution_count": 2,
   "metadata": {},
   "outputs": [
    {
     "name": "stdout",
     "output_type": "stream",
     "text": [
      "输入字符串1243556\n"
     ]
    }
   ],
   "source": [
    "zimu = input('输入字符串')\n",
    "def counLettres():\n",
    "    geshu = 0\n",
    "    for i in zimu:\n",
    "        if i.isalpha():\n",
    "            geshu +=1\n",
    "            print(geshu)\n",
    "counLettres()"
   ]
  },
  {
   "cell_type": "code",
   "execution_count": null,
   "metadata": {},
   "outputs": [],
   "source": []
  },
  {
   "cell_type": "markdown",
   "metadata": {},
   "source": [
    "- 5\n",
    "![](../Photo/110.png)"
   ]
  },
  {
   "cell_type": "code",
   "execution_count": 1,
   "metadata": {},
   "outputs": [
    {
     "name": "stdout",
     "output_type": "stream",
     "text": [
      "请输入任意字符串: hydghvjk0459\n",
      "[0, 4, 5, 9]\n",
      "['H', 'Y', 'D', 'G', 'H', 'V', 'J', 'K']\n"
     ]
    }
   ],
   "source": [
    "str1 = input(\"请输入任意字符串: \")\n",
    "list1= [] #存储字符串\n",
    "list2= [] #存储数字\n",
    "for i in str1:\n",
    "    if i.isdigit() == True: #判断当前字符是否为字符\n",
    "        list2.append(int(i))\n",
    "    else:\n",
    "        list1.append(i.upper())\n",
    "print(list2)\n",
    "print(list1)"
   ]
  },
  {
   "cell_type": "code",
   "execution_count": null,
   "metadata": {},
   "outputs": [],
   "source": []
  },
  {
   "cell_type": "markdown",
   "metadata": {},
   "source": [
    "- 6\n",
    "![](../Photo/111.png)"
   ]
  },
  {
   "cell_type": "code",
   "execution_count": 3,
   "metadata": {},
   "outputs": [
    {
     "name": "stdout",
     "output_type": "stream",
     "text": [
      "输入hy0459\n"
     ]
    },
    {
     "data": {
      "text/plain": [
       "'9540yh'"
      ]
     },
     "execution_count": 3,
     "metadata": {},
     "output_type": "execute_result"
    }
   ],
   "source": [
    "zifu = input('输入')\n",
    "def reverse():\n",
    "    return zifu[::-1]\n",
    "reverse()"
   ]
  },
  {
   "cell_type": "markdown",
   "metadata": {},
   "source": [
    "- 7\n",
    "![](../Photo/112.png)"
   ]
  },
  {
   "cell_type": "code",
   "execution_count": null,
   "metadata": {},
   "outputs": [],
   "source": []
  },
  {
   "cell_type": "markdown",
   "metadata": {},
   "source": [
    "- 8\n",
    "![](../Photo/113.png)"
   ]
  },
  {
   "cell_type": "code",
   "execution_count": 4,
   "metadata": {},
   "outputs": [
    {
     "ename": "SyntaxError",
     "evalue": "invalid syntax (<ipython-input-4-7beb42531bc0>, line 2)",
     "output_type": "error",
     "traceback": [
      "\u001b[1;36m  File \u001b[1;32m\"<ipython-input-4-7beb42531bc0>\"\u001b[1;36m, line \u001b[1;32m2\u001b[0m\n\u001b[1;33m    10-(d1+3*d2+d3+3*d4+d5+3*d6+d7+3*d8+d9+3d10+d11+3d12)%10\u001b[0m\n\u001b[1;37m                                              ^\u001b[0m\n\u001b[1;31mSyntaxError\u001b[0m\u001b[1;31m:\u001b[0m invalid syntax\n"
     ]
    }
   ],
   "source": [
    "jiance = input('输入')\n",
    "10-(d1+3*d2+d3+3*d4+d5+3*d6+d7+3*d8+d9+3d10+d11+3d12)%10"
   ]
  },
  {
   "cell_type": "code",
   "execution_count": null,
   "metadata": {},
   "outputs": [],
   "source": []
  },
  {
   "cell_type": "markdown",
   "metadata": {},
   "source": [
    "- 9\n",
    "![](../Photo/114.png)"
   ]
  },
  {
   "cell_type": "code",
   "execution_count": null,
   "metadata": {},
   "outputs": [],
   "source": []
  }
 ],
 "metadata": {
  "kernelspec": {
   "display_name": "Python 3",
   "language": "python",
   "name": "python3"
  },
  "language_info": {
   "codemirror_mode": {
    "name": "ipython",
    "version": 3
   },
   "file_extension": ".py",
   "mimetype": "text/x-python",
   "name": "python",
   "nbconvert_exporter": "python",
   "pygments_lexer": "ipython3",
   "version": "3.7.3"
  }
 },
 "nbformat": 4,
 "nbformat_minor": 2
}
